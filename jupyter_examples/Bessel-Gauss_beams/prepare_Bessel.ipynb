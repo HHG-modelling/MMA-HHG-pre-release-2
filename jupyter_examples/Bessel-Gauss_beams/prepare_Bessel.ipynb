{
 "cells": [
  {
   "cell_type": "markdown",
   "metadata": {},
   "source": [
    "# The simulation of Bessel-Gauss (BG) beams"
   ]
  },
  {
   "cell_type": "markdown",
   "metadata": {},
   "source": [
    "Here we show how to use a customised input laser field instead of the default Gaussian pulse. This is reached by replacing the Gaussian pulse in the pre-processed CUPRAD input. This notebooks aims for specifying the field, the TDSE and harmonic part is not treated there. The input file is fully compatible and there is no difficulty [to add these steps](../gas_cell/prepare_cell.ipynb).\n",
    "\n",
    "The approach to implement the BG beams is the following:\n",
    "1) Set a *reference Gaussian pulse* and other input parameters.\n",
    "2) Call the pre-processor locally from this notebook.\n",
    "3) Replace the Gaussian pulse by our customised field in the pre-processed hdf5 archive.\n",
    "4) The modified pre-processed hdf5 archive is then used in the standard operation of the code.\n",
    "\n",
    "Note that the computational grids and other CUPRAD internal subroutines are set based on the input Gaussian pulse. Therefore, the parameters of *the reference Gaussian pulse* must symphonise with the replacing field."
   ]
  },
  {
   "cell_type": "markdown",
   "metadata": {},
   "source": [
    "## Load libraries"
   ]
  },
  {
   "cell_type": "code",
   "execution_count": null,
   "metadata": {},
   "outputs": [],
   "source": [
    "import numpy as np\n",
    "import itertools\n",
    "from scipy import integrate\n",
    "import matplotlib.pyplot as plt\n",
    "import os\n",
    "import shutil\n",
    "import h5py\n",
    "import sys\n",
    "import MMA_administration as MMA\n",
    "import mynumerics as mn\n",
    "import units\n",
    "import HHG\n",
    "from IPython.display import display, Markdown\n",
    "\n",
    "\n",
    "# %matplotlib inline"
   ]
  },
  {
   "cell_type": "markdown",
   "metadata": {},
   "source": [
    "The path where the input parameters are written:"
   ]
  },
  {
   "cell_type": "code",
   "execution_count": null,
   "metadata": {},
   "outputs": [],
   "source": [
    "outputs_path = os.path.join(os.environ['MULTISCALE_WORK_DIR'],'Bessel','inputs')"
   ]
  },
  {
   "cell_type": "markdown",
   "metadata": {},
   "source": [
    "## Physical parameters\n",
    "\n",
    "Here we define the parameters of the *medium*, *Bessel-Gauss beams* and [*reference Gaussian beam*](../gas_cell/prepare_cell.ipynb).\n",
    "\n",
    "We start with the medium."
   ]
  },
  {
   "cell_type": "code",
   "execution_count": null,
   "metadata": {},
   "outputs": [],
   "source": [
    "# gas specifiers\n",
    "gas              = 'Ar'\n",
    "medium_length    = 12.0e-2 # [m] \n",
    "ionisation_model = 'PPT'\n",
    "\n",
    "medium_pressure = 25e-3 # [mbar]"
   ]
  },
  {
   "cell_type": "markdown",
   "metadata": {},
   "source": [
    "Then we proceed to the definitions of the Bessel-Gauss beams: $$\\mathcal{E}_{\\mathrm{BG}}(\\rho) = \\mathcal{E}_0 \\mathrm{e}^{-\\left(\\frac{\\rho}{w_0}\\right)^2}J_0 \\left(\\frac{2 r \\rho}{w_0}\\right)\\,,$$\n",
    "where we can identify the Bessel waist $w_{\\mathrm{B}} = w_0/(2r)$, where $r=\\theta_{\\mathrm{B}} / \\theta_{\\mathrm{G}}$ is the ratio (denoted below as the `Bessel_ratios`) of the angular aperture of the cone $\\theta_{\\mathrm{B}}$ related to the Bessel part of the beam and the angular spread $\\theta_{\\mathrm{G}}$ of the Gaussian part of the beam, see Eq. (3.3) [here](https://doi.org/10.1016/0030-4018(87)90276-8) for more details.\n",
    "\n",
    "We note that the solution transforms into a regular Gaussian beam for $r=0$. We use this case as the *reference Gaussian beam*. Generally, the profile is close to Gaussian for $r<1$ and the [diffraction-free Bessel properties](https://doi.org/10.1103/PhysRevLett.58.1499) are retrieved for $r>1$. Therefore, we fully specify the BG beams by $\\mathcal{E}_0$, $w_0$ and $r$.\n",
    "\n",
    "The final field further considers a Gaussian temporal profile:\n",
    "$$\\mathcal{E}(\\rho,t) = \\mathcal{E}_{\\mathrm{BG}}(\\rho) \\mathrm{e}^{-\\left(\\frac{t}{\\tau}\\right)^2} \\cos(\\omega_0 t)\\,,$$\n",
    "which reads in Python:"
   ]
  },
  {
   "cell_type": "code",
   "execution_count": null,
   "metadata": {},
   "outputs": [],
   "source": [
    "from scipy.special import j0 as J0\n",
    "\n",
    "def BG0(r_,t_,E0_,w0_,ratio_,lambd_,t_e_):\n",
    "    return E0_*np.exp(-(r_/w0_)**2) * np.exp(-(t_/t_e_)**2) *\\\n",
    "           J0(2. * ratio_ * r_ / w0_) *\\\n",
    "           np.cos(mn.ConvertPhoton(lambd_,'lambdaSI','omegaSI')*t_)"
   ]
  },
  {
   "cell_type": "markdown",
   "metadata": {},
   "source": [
    "We place the entry of the medium at the focus of the beam, i.e., at the position with 0 curvature of the driving beam.\n",
    "\n",
    "To compare BG beams with different $r$, we require them to share the waist $w_{\\text{tot}}$ that we define via $\\mathcal{E}_{\\mathrm{BG}}(w_{\\text{tot}})=1/\\mathrm{e}$ (we define $w_{\\text{tot}}=$`BG_beamwaist`). The unknown variable is now 'the Gaussian waist' $w_0$.\n",
    "\n",
    "Here we set $w_{\\text{tot}}$, the ratios $r$ and use a numerical routine to find corresponding $w_0$. (Note that $w_{\\text{tot}}=w_0$ for $r=0$.)"
   ]
  },
  {
   "cell_type": "code",
   "execution_count": null,
   "metadata": {},
   "outputs": [],
   "source": [
    "BG_beamwaist =   50e-6 # [m]\n",
    "Bessel_ratios    = [0,   2.,   5.]\n",
    "reference_Gaussian_focus = 0. # [m] there is no point to set it differently. (It defines but the reference field, which will be rewriten.)\n",
    "\n",
    "# numerically find corresponding w0's\n",
    "from scipy import optimize\n",
    "w_Gauss = [(optimize.minimize(lambda x: (BG0(BG_beamwaist,0.,1.,x,ratio,1.,1.)-1./np.e)**2,\n",
    "                                        (1.+ratio)*BG_beamwaist).x)[0] for ratio in Bessel_ratios]"
   ]
  },
  {
   "cell_type": "markdown",
   "metadata": {},
   "source": [
    "Finally, we need to set the remaining parameters of the laser pulse: its focus intensity, duration and wavelength. We consider more intensities relative to the critical above-threshold-ionising intensity $I_{\\text{ATI}}$. We use a rough estimate for this intensity considering a purely Coulombic potential suppresed by the external field to the ground-state energy level (the value of the electric field $\\mathcal{E}$ for which the maximum of the potential $-x/(4\\pi\\varepsilon_0) - \\mathcal{E}x = I_{p}$)."
   ]
  },
  {
   "cell_type": "code",
   "execution_count": null,
   "metadata": {},
   "outputs": [],
   "source": [
    "laser_pulse_duration = 30e-15 # [s] (defined via 1/e in the electric field amplitude)\n",
    "laser_wavelength = 800e-9 # [m]\n",
    "\n",
    "\n",
    "Intensity_ratios = [0.1, 0.4, 0.7]\n",
    "reference_Gaussian_focus_intensity =  HHG.Critical_ATI_intensity_rough(HHG.Ip_list[gas])*units.INTENSITYau  # [W/m2]"
   ]
  },
  {
   "cell_type": "markdown",
   "metadata": {},
   "source": [
    "# Numerical parameters\n",
    "\n",
    "Here we define the numerical parameters. This release of the code leaves the responsibility of choosing proper parameters to users, except the implementatation of adaptive steps in $z$. (See the [first tutorial](../gas_cell/prepare_cell.ipynb) for more details.)"
   ]
  },
  {
   "cell_type": "code",
   "execution_count": null,
   "metadata": {},
   "outputs": [],
   "source": [
    "number_of_points_in_r      = 2*4096\n",
    "number_of_points_in_t      = 512 # 1024\n",
    "\n",
    "operators_t                = 2\n",
    "first_delta_z              = 0.01 # [mm]\n",
    "phase_threshold_for_decreasing_delta_z = 0.002\t# [rad]\n",
    "\n",
    "length_of_window_for_r_normalized_to_beamwaist = 16.   # [-]\n",
    "length_of_window_for_t_normalized_to_pulse_duration = 6. # [-]\n",
    "\n",
    "number_of_absorber_points_in_time = 16  # [-]\n",
    "\n",
    "physical_output_distance_for_plasma_and_Efield = 0.0015   # [m]\n",
    "\n",
    "output_distance_in_z_steps_for_fluence_and_power   = 100  # [-]\n",
    "\n",
    "radius_for_diagnostics = 0.1 # [cm]\n",
    "\n",
    "run_time_in_hours = 23.0 # [h] "
   ]
  },
  {
   "cell_type": "code",
   "execution_count": null,
   "metadata": {},
   "outputs": [],
   "source": [
    "## Code to generate the following text ##\n",
    "reference_Gaussian_waist = BG_beamwaist\n",
    "zR = (np.pi*reference_Gaussian_waist**2)/laser_wavelength\n",
    "dr_CUPRAD = length_of_window_for_r_normalized_to_beamwaist * reference_Gaussian_waist*np.sqrt(1+(reference_Gaussian_focus/zR)**2)/number_of_points_in_r\n",
    "zR_list = [(np.pi*foo**2)/laser_wavelength for foo in w_Gauss]\n",
    "display(Markdown(rf\"\"\"### Properties of the chosen discretisation & beam heuristics\n",
    "* The chosen discretisation in time gives ~ {\n",
    "            number_of_points_in_t/(\n",
    "            laser_pulse_duration*length_of_window_for_t_normalized_to_pulse_duration/mn.ConvertPhoton(laser_wavelength,'lambdaSI','T0SI')\n",
    "            )\n",
    "    :.0f}\n",
    "points per one laser period.\n",
    "* The stepsize in the radial discretisation is ~ ${\n",
    "      1e6*dr_CUPRAD\n",
    "      :.2f}\n",
    "~\\mu {{\\mathrm{{m}}}}$.\n",
    "* The size of the radial computational box is ~ ${\n",
    "      1e6*length_of_window_for_r_normalized_to_beamwaist * reference_Gaussian_waist\n",
    "      :.2f}\n",
    "~\\mu {{\\mathrm{{m}}}}$. The maximal radius of the reference Gaussian beam is ~ ${\n",
    "      1e6*np.max([\n",
    "            reference_Gaussian_waist*np.sqrt(1+((medium_length-reference_Gaussian_focus)/zR)**2),\n",
    "            reference_Gaussian_waist*np.sqrt(1+(reference_Gaussian_focus/zR)**2)\n",
    "            ])\n",
    "      :.2f}\n",
    "~\\mu {{\\mathrm{{m}}}}$.$^\\dagger$\n",
    "* The Rayleigh length for the purely Gaussian beam is ${\n",
    "      1e3*zR\n",
    "      :.2f}\n",
    "~{{\\mathrm{{mm}}}}$ (the length of the cell is ${\n",
    "      1e3*medium_length\n",
    "      :.2f}\n",
    "~{{\\mathrm{{mm}}}}$).\n",
    "* There will be ~ {\n",
    "    medium_length/physical_output_distance_for_plasma_and_Efield\n",
    "    :.0f} output planes.\n",
    "* Propagation distances relative to the Rayleigh lengths ($L/z_R$): \"\"\"+ \", \".join([\"{:.1f}\".format(medium_length/foo) for foo in zR_list])+\".\"+\n",
    "rf\"\"\"\n",
    "\n",
    "$^\\dagger$ This is given at the $z$-edges of the computational box.\n",
    "\"\"\"))"
   ]
  },
  {
   "cell_type": "markdown",
   "metadata": {},
   "source": [
    "### Bessel-Gauss beam on our grids\n",
    "Let's plot the initial intensity profiles of the beams on our computational grids. (We normalise the intensity as this scaling will be treated in the final plots.)"
   ]
  },
  {
   "cell_type": "code",
   "execution_count": null,
   "metadata": {},
   "outputs": [],
   "source": [
    "### Code to generate the following figure ###\n",
    "\n",
    "# Original Gauss: reconstruct grids etc.\n",
    "w0    = reference_Gaussian_waist\n",
    "rmax  = length_of_window_for_r_normalized_to_beamwaist * w0\n",
    "rgrid = np.linspace(0.,rmax,number_of_points_in_r)\n",
    "\n",
    "T_computational_window = laser_pulse_duration * length_of_window_for_t_normalized_to_pulse_duration\n",
    "tgrid = np.linspace(-0.5*T_computational_window, 0.5*T_computational_window, number_of_points_in_t)\n",
    "tv, rv = np.meshgrid(tgrid,rgrid) # vector grids\n",
    "\n",
    "# plot the intensity profiles for the different ratios\n",
    "\n",
    "fig, ax = plt.subplots()\n",
    "for args, kwargs in zip([[1e6*rgrid,BG0(rgrid,0,1.,foo,ratio,laser_wavelength,1.)**2] for ratio, foo in zip(Bessel_ratios,w_Gauss)],\n",
    "                        [{'label' : f'$r={ratio:.1f}$'} for ratio in Bessel_ratios]):    \n",
    "    ax.plot(*args,**kwargs)\n",
    "\n",
    "ax.legend()\n",
    "\n",
    "ax.set_xlabel(r'$\\rho~[\\mu\\mathrm{m}]$')\n",
    "ax.set_ylabel(r'$I$ [-]')\n",
    "ax.set_title(r'The tranversal profiles at the peak of the pulse')\n",
    "plt.show()  "
   ]
  },
  {
   "cell_type": "markdown",
   "metadata": {},
   "source": [
    "## Prepare the input file\n",
    "\n",
    "Last, we create the HDF5 file containing all the input parameters. The procedure is:\n",
    "\n",
    "1) Provide several dictionaries (for different modules) to translate the local variables used in this jupyter notebook to the nomenclature used in the code.\n",
    "2) Create the archive with the reference Gaussian beam.\n",
    "3) Run the pre-processor.\n",
    "4) The reference archive is copied and the input field is replaced by the Bessel-Gauss profiles.\n",
    "\n",
    "The path was set at the beginning pointing to the working directory.\n"
   ]
  },
  {
   "cell_type": "code",
   "execution_count": null,
   "metadata": {},
   "outputs": [],
   "source": [
    "## Prepare dictionaries between hdf5-inputs and this jupyter notebook\n",
    "\n",
    "global_input_names_to_jupyter_variables = {\n",
    "    'gas_preset'                                : (np.bytes_(gas),                       '[-]'   ),\n",
    "    'medium_pressure_in_bar'                    : (medium_pressure,                      '[bar]' )\n",
    "}\n",
    "\n",
    "\n",
    "CUPRAD_names_to_jupyter_variables = {\n",
    "    # laser parameters\n",
    "    'laser_wavelength'                          : (1e2*laser_wavelength,                  '[cm]'  ),\n",
    "    'laser_pulse_duration_in_1_e_Efield'        : (1e15*laser_pulse_duration,             '[fs]' ),\n",
    "    'laser_focus_intensity_Gaussian'            : (reference_Gaussian_focus_intensity,    '[W/m2]'  ),\n",
    "    'laser_focus_beamwaist_Gaussian'            : (reference_Gaussian_waist,              '[m]'  ),\n",
    "    'laser_focus_position_Gaussian'             : (reference_Gaussian_focus,              '[m]'  ),\n",
    "\n",
    "    # medium parameters\n",
    "    'medium_physical_distance_of_propagation'   : (medium_length,                         '[m]'   ),\n",
    "\n",
    "    # ionisation\n",
    "    'ionization_model'                          : (np.bytes_(ionisation_model),          '[-]'  ),\n",
    "\n",
    "    # numerics\n",
    "    'numerics_number_of_points_in_r'            : (number_of_points_in_r,                 '[-]'  ),\n",
    "    'numerics_number_of_points_in_t'            : (number_of_points_in_t,                 '[-]'  ),\n",
    "    'numerics_operators_t_t-1'                  : (operators_t,                           '[-]'  ),\n",
    "    'numerics_physical_first_stepwidth'         : (first_delta_z,                         '[mm]' ),\n",
    "    'numerics_phase_threshold_for_decreasing_delta_z' : \n",
    "        (phase_threshold_for_decreasing_delta_z,                '[rad]' ),\n",
    "    'numerics_length_of_window_for_r_normalized_to_beamwaist':\n",
    "        (length_of_window_for_r_normalized_to_beamwaist,        '[-]'   ),\n",
    "    'numerics_length_of_window_for_t_normalized_to_pulse_duration' :\n",
    "        (length_of_window_for_t_normalized_to_pulse_duration,   '[-]'   ),\n",
    "    'numerics_number_of_absorber_points_in_time':\n",
    "        (number_of_absorber_points_in_time ,                    '[-]'   ),\n",
    "    'numerics_physical_output_distance_for_plasma_and_Efield' :\n",
    "        (physical_output_distance_for_plasma_and_Efield,        '[m]'   ),\n",
    "    'numerics_output_distance_in_z-steps_for_fluence_and_power' :\n",
    "        (output_distance_in_z_steps_for_fluence_and_power,      '[-]'   ),\n",
    "    'numerics_radius_for_diagnostics'           : (radius_for_diagnostics,                '[cm]' ),\n",
    "    'numerics_run_time_in_hours'                : (run_time_in_hours,                     '[s]'  )\n",
    "}"
   ]
  },
  {
   "cell_type": "code",
   "execution_count": null,
   "metadata": {},
   "outputs": [],
   "source": [
    "## Create the hdf5-archive\n",
    "h5filename = 'results_Bessel.h5'\n",
    "\n",
    "if os.path.exists(outputs_path): shutil.rmtree(outputs_path)  # clean the input directory if it existed\n",
    "os.makedirs(outputs_path)\n",
    "h5filepath = os.path.join(outputs_path,h5filename)\n",
    "\n",
    "from inputs_transformer import add_variables2hdf5\n",
    "with h5py.File(h5filepath,'w') as f: \n",
    "\n",
    "    add_variables2hdf5(f,\n",
    "                    global_input_names_to_jupyter_variables,\n",
    "                    CUPRAD_names_to_jupyter_variables,\n",
    "                    None,\n",
    "                    None,\n",
    "                    None,\n",
    "                    None)"
   ]
  },
  {
   "cell_type": "code",
   "execution_count": null,
   "metadata": {},
   "outputs": [],
   "source": [
    "## run pre-processor\n",
    "import subprocess\n",
    "\n",
    "os.chdir(outputs_path)\n",
    "\n",
    "inputs = f\"{h5filename}\\n0\\n0\\n0\\n\"\n",
    "\n",
    "for foo in ['MERGE_RAD.LOG', 'STOP', 'listing', 'PROP_RAD.LOG']:\n",
    "      try: os.remove(foo)\n",
    "      except: pass\n",
    "\n",
    "log = subprocess.run(\n",
    "      [os.environ['CUPRAD_BUILD']+'/make_start.e'],  # command to run the script\n",
    "      input=inputs,                # provide input here\n",
    "      text=True,                   # treat input/output as text (str)\n",
    "      capture_output=True          # capture stdout and stderr\n",
    ")"
   ]
  },
  {
   "cell_type": "markdown",
   "metadata": {},
   "source": [
    "We copy the input files with the list of various Bessel-Gauss beams.\n",
    "\n",
    "Note that the code works with the complexified field in the time domain, it is defined as $$\\mathcal{E}_{\\text{cmplx}}(t) = \\mathscr{F}[\\theta (\\omega)\\hat{\\mathcal{E}}(\\omega)](t) \\,,$$ where $\\theta (\\omega)$ is the Heaviside function and $\\hat{\\mathcal{E}}(\\omega)$ is the Fourier transform of $\\mathcal{E}(t)$.\n",
    "\n",
    "We also plot the input fields and the peak intensity profile for each input. We can choose several units for plotting: $\\mathrm{W/cm}^2$, relative to $I_{\\text{ATI}}$, or relative to the harmonic cutoff."
   ]
  },
  {
   "cell_type": "code",
   "execution_count": null,
   "metadata": {},
   "outputs": [],
   "source": [
    "# the filename convention\n",
    "new_h5file_stub = 'results_Bessel_'\n",
    "\n",
    "# The units for plotting\n",
    "intensity_scale = 'W/cm2'      # {W/cm2, cutoff, critical}   \n",
    "\n",
    "# mask to plot the intensity in the chosen units\n",
    "intensity_mask = lambda x: (1e-4*x\n",
    "                            if (intensity_scale == 'W/cm2')\n",
    "                            else \n",
    "                            HHG.ComputeCutoff(\n",
    "                             x/units.INTENSITYau,\n",
    "                             mn.ConvertPhoton(laser_wavelength,'lambdaSI','omegaau'),\n",
    "                             HHG.Ip_list[gas]\n",
    "                           )[1]\n",
    "                           if (intensity_scale == 'cutoff')\n",
    "                           else\n",
    "                           1e2*x/(HHG.Critical_ATI_intensity_rough(HHG.Ip_list[gas])*units.INTENSITYau)\n",
    "                           )\n",
    "\n",
    "\n",
    "# Prepare figures to show the input fields\n",
    "Nsim = len(Bessel_ratios) * len(Intensity_ratios)\n",
    "Nrows = Nsim//3 if (Nsim%3==0) else (Nsim//3)+1\n",
    "\n",
    "fig1, axes1 = plt.subplots(Nrows, 3, figsize=(17, Nrows*4))  # Create a 2x2 grid of subplots\n",
    "axes1 = axes1.flatten()\n",
    "\n",
    "fig2, axes2 = plt.subplots(Nrows, 3, figsize=(17, Nrows*4))  # Create a 2x2 grid of subplots\n",
    "axes2 = axes2.flatten()\n",
    "\n",
    "for k1, (k2, k3) in enumerate(itertools.product(range(len(Bessel_ratios)),range(len(Intensity_ratios)))):\n",
    "\n",
    "    E0 = np.sqrt(Intensity_ratios[k3] * reference_Gaussian_focus_intensity/units.INTENSITYau)*units.EFIELDau\n",
    "    new_field = BG0(rv,tv,E0,w_Gauss[k2],Bessel_ratios[k2],laser_wavelength,laser_pulse_duration)\n",
    "\n",
    "    axes2[k1].plot(1e6*rgrid,intensity_mask(mn.FieldToIntensitySI(BG0(rgrid,0,E0,w_Gauss[k2],Bessel_ratios[k2],laser_wavelength,1.))))\n",
    "    axes2[k1].set_xlabel(r'$\\rho~[\\mu m]$')\n",
    "    axes2[k1].set_ylabel(r'$I$ ['+('$\\mathrm{W/cm^2}$' if (intensity_scale == 'W/cm2') else\n",
    "                                   'cutoff'   if (intensity_scale == 'cutoff') else\n",
    "                                   r'% of $I_{\\text{ATI}}$')+']')\n",
    "    axes2[k1].set_title('sim '+str(k1+1)+rf', peak intensity') \n",
    "\n",
    "    # Complexification\n",
    "    Nr, Nt = np.shape(new_field)\n",
    "    new_field_cmplx = np.empty((Nr, Nt),dtype=np.cdouble)\n",
    "    for k4 in range(Nr): \n",
    "        new_field_cmplx[k4,:] = np.conj(mn.complexify_fft(new_field[k4,:]))\n",
    "\n",
    "\n",
    "    pc1 = axes1[k1].pcolormesh(1e15*tgrid, 1e6*rgrid, 1e-9*new_field_cmplx.real, shading='auto', cmap='seismic')    \n",
    "    cbar = fig1.colorbar(pc1, ax=axes1[k1])\n",
    "    cbar.set_label('$\\mathcal{E}$ [GV/m]', rotation=90)\n",
    "    axes1[k1].set_xlabel(r'$t~[fs]$')\n",
    "    axes1[k1].set_ylabel(r'$\\rho~[\\mu m]$')\n",
    "    axes1[k1].set_title('sim '+str(k1+1)+rf', $r={Bessel_ratios[k2]}$ [-], $\\frac{{I_0}}{{I_{{\\text{{crit.}}}}}}={Intensity_ratios[k3]}$ [-]')\n",
    "\n",
    "\n",
    "    new_directory = new_h5file_stub+str(k1+1)\n",
    "    if os.path.exists(new_directory): shutil.rmtree(new_directory)\n",
    "    os.makedirs(new_directory)\n",
    "    new_h5file = os.path.join(new_directory,new_h5file_stub+str(k1+1)+'.h5')\n",
    "    new_msg_file = os.path.join(new_directory,'msg.tmp')\n",
    "\n",
    "    shutil.copy2(h5filename, new_h5file)\n",
    "    for foo in ['MERGE_RAD.LOG', 'STOP', 'listing', 'PROP_RAD.LOG']:\n",
    "      new_file = os.path.join(new_directory,foo)\n",
    "      try: shutil.copy2(foo,new_file)\n",
    "      except: pass\n",
    " \n",
    "    with h5py.File(new_h5file,'r+') as f, open(new_msg_file,'w') as msg:\n",
    "        f[MMA.paths['CUPRAD_pre-processed']+'/startfield_r'][:]=new_field_cmplx.real\n",
    "        f[MMA.paths['CUPRAD_pre-processed']+'/startfield_i'][:]=new_field_cmplx.imag\n",
    "        msg.write(new_h5file_stub+str(k1+1)+'.h5')\n",
    "\n",
    "\n",
    "for k1 in range(Nsim,3*Nrows):\n",
    "  axes1[k1].axis('off')\n",
    "  axes2[k1].axis('off')\n",
    "fig1.tight_layout() \n",
    "fig2.tight_layout() \n",
    "plt.show()"
   ]
  }
 ],
 "metadata": {
  "kernelspec": {
   "display_name": "Python 3",
   "language": "python",
   "name": "python3"
  },
  "language_info": {
   "codemirror_mode": {
    "name": "ipython",
    "version": 3
   },
   "file_extension": ".py",
   "mimetype": "text/x-python",
   "name": "python",
   "nbconvert_exporter": "python",
   "pygments_lexer": "ipython3",
   "version": "3.10.12"
  }
 },
 "nbformat": 4,
 "nbformat_minor": 4
}
