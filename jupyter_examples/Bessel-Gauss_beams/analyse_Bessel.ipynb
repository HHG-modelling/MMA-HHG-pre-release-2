{
 "cells": [
  {
   "cell_type": "markdown",
   "metadata": {},
   "source": [
    "# Visualisation of Bessel-Gauss propagation\n",
    "\n",
    "This notebook visualises the results of the Bessel-Gauss profiles intitiated by [this notebook](prepare_Bessel.ipynb). We select 4 of the results and animate the passage of the pulse through medium. See other notebooks ([link 1](../gas_cell/xxx), [link 2](../density_profile/analyse_density_profile.ipynb)) for different analyses."
   ]
  },
  {
   "cell_type": "markdown",
   "metadata": {},
   "source": [
    "## Load libraries & initial data"
   ]
  },
  {
   "cell_type": "code",
   "execution_count": null,
   "metadata": {},
   "outputs": [],
   "source": [
    "## python modules used within this notebook\n",
    "import numpy as np\n",
    "import matplotlib.pyplot as plt\n",
    "import matplotlib.animation\n",
    "import matplotlib.colors as colors\n",
    "from contextlib import ExitStack\n",
    "import os\n",
    "import h5py\n",
    "import sys\n",
    "import MMA_administration as MMA\n",
    "import mynumerics as mn\n",
    "import units\n",
    "from IPython.display import display, Markdown\n",
    "from IPython.display import HTML\n",
    "\n",
    "import dataformat_CUPRAD as dfC\n",
    "import HHG\n",
    "import plot_presets as pp \n",
    "\n",
    "matplotlib.rcParams['animation.embed_limit'] = 200.\n",
    "%matplotlib inline"
   ]
  },
  {
   "cell_type": "markdown",
   "metadata": {},
   "source": [
    "## Load data\n",
    "\n",
    "Here we load the selected data from an input list. The provided test cases are for `30fs` and `60fs` (the durations of the initial pulses)."
   ]
  },
  {
   "cell_type": "code",
   "execution_count": null,
   "metadata": {},
   "outputs": [],
   "source": [
    "demos_path = os.path.join(os.environ['MULTISCALE_DEMOS'],'Bessel') # path to the data, using the environment path to the demos\n",
    "series_version = '30fs'                                            # '30fs' or '60fs'\n",
    "\n",
    "h5files = [os.path.join(demos_path, series_version, foo) for foo in \n",
    "            ['results_Bessel_1.h5','results_Bessel_3.h5','results_Bessel_7.h5','results_Bessel_9.h5']] # list of loaded simulations\n",
    "\n",
    "# # Mix the same results from different simulation series\n",
    "# import itertools\n",
    "# h5files = [os.path.join(demos_path, foo, bar) for foo, bar in \n",
    "#             itertools.product(['30fs','60fs'],['results_Bessel_3.h5','results_Bessel_9.h5'])]\n",
    "             \n",
    "\n",
    "# load the data\n",
    "Nsim = len(h5files)\n",
    "CUPRAD_res = []\n",
    "with ExitStack() as stack:\n",
    "    # Open all files and store file objects in a list\n",
    "    files = [stack.enter_context(h5py.File(h5file, 'r')) for h5file in h5files]\n",
    "    \n",
    "    # Load data from each file and append it to CUPRAD_res\n",
    "    for f in files:\n",
    "        CUPRAD_res.append(dfC.get_data(f))\n"
   ]
  },
  {
   "cell_type": "markdown",
   "metadata": {},
   "source": [
    "## Plot the propagating pulse\n",
    "We plot the data for all the loaded simulations. We set the shared limits for the plots defined relatively to the pulse duration and set the stride (`frame_multiplier`) in $z$ for the plotting (using all the points might be resource consuming). We also choose whether to save the animation and set `fps` to ensure appealing output."
   ]
  },
  {
   "cell_type": "code",
   "execution_count": null,
   "metadata": {},
   "outputs": [],
   "source": [
    "tlim_relative_to_pulse_duration = (-2., 2.)\n",
    "tlim = [np.asarray([t_plot_span*result.pulse_duration_entry for t_plot_span in tlim_relative_to_pulse_duration]) for result in CUPRAD_res] # [fs]\n",
    "\n",
    "frame_multiplier = 8 # stride in z for plotting\n",
    "\n",
    "save_animation   = True\n",
    "fps              = 5 # fps to synchronise output with the frame_multiplier\n",
    "animation_author = 'Jan Vábek'\n",
    "\n"
   ]
  },
  {
   "cell_type": "markdown",
   "metadata": {},
   "source": [
    "Finally, we generate the figure. it allows different shapes of input simulations. However, we assume a similar spacing in $z$, and the simulation animates until the shortest $z$-axis is consumed."
   ]
  },
  {
   "cell_type": "code",
   "execution_count": null,
   "metadata": {},
   "outputs": [],
   "source": [
    "# Code to generate the animated figure\n",
    "\n",
    "# find subarrays (assume general case with different input archives)\n",
    "k_t_min, k_t_max = tuple(zip(*[mn.FindInterval(1e15*CUPRAD_res[k1].tgrid,1.05*tlim[k1]) for k1 in range(len(CUPRAD_res))]))\n",
    "\n",
    "\n",
    "Nrows = Nsim//2 if (Nsim%2==0) else (Nsim//2)+1\n",
    "\n",
    "fig, axes = plt.subplots(Nrows, 2, figsize=(15, Nrows*4))  # Create a 2x2 grid of subplots\n",
    "axes = axes.flatten()\n",
    "\n",
    "\n",
    "pcs = []; cbars = []\n",
    "# Create pcolormesh plots and colorbars\n",
    "for k1, ax in enumerate(axes[:len(CUPRAD_res)]):\n",
    "    pc = ax.pcolormesh(1e15*CUPRAD_res[k1].tgrid[k_t_min[k1]:k_t_max[k1]],\n",
    "                       1e6*CUPRAD_res[k1].rgrid,\n",
    "                       1e-9*CUPRAD_res[k1].E_zrt[0, :, k_t_min[k1]:k_t_max[k1]],\n",
    "                       shading='auto', cmap='seismic')\n",
    "    pcs.append(pc)\n",
    "    cbar = fig.colorbar(pc, ax=ax)\n",
    "    cbar.ax.set_ylabel(r'$\\mathcal{E}$ [GV/m]', rotation=90)\n",
    "    cbars.append(cbar)\n",
    "    \n",
    "\n",
    "    # Set axis properties\n",
    "    ax.set_xlim(tlim[k1])\n",
    "    ax.set_title(\"z={:.2f} mm\".format(1e3*CUPRAD_res[k1].zgrid[0]))\n",
    "    ax.set_xlabel(r'$t~[\\mathrm{fs}]$')\n",
    "\n",
    "for k1 in range(Nrows): axes[2*k1].set_ylabel(r'$\\rho~[\\mu\\mathrm{m}]$')  # Set ylabel only for the left plots\n",
    "for k1 in range(Nsim,2*Nrows): axes[k1].axis('off')\n",
    "\n",
    "# Create colorbars using list comprehensions\n",
    "\n",
    "\n",
    "def update(frame):\n",
    "    for k1 in range(len(CUPRAD_res)):\n",
    "        # Update the data for each subplot\n",
    "        data = 1e-9*CUPRAD_res[k1].E_zrt[frame_multiplier*frame, :, k_t_min[k1]:k_t_max[k1]]\n",
    "        \n",
    "        # Update the colors\n",
    "        pcs[k1].set_array(data.ravel())\n",
    "        max_value_symmetric = np.max(np.abs((data.min(), data.max())))\n",
    "        pcs[k1].set_clim(-max_value_symmetric,max_value_symmetric)\n",
    "        cbars[k1].update_normal(pcs[k1])\n",
    "\n",
    "        axes[k1].set_title(\"z={:.2f} mm\".format(1e3*CUPRAD_res[k1].zgrid[frame_multiplier*frame]))\n",
    "\n",
    "    return pcs\n",
    "\n",
    "# Ensure the layout does not have overlaps and everything is nicely spaced\n",
    "fig.tight_layout() \n",
    "\n",
    "ani = matplotlib.animation.FuncAnimation(fig,\n",
    "                                         update,\n",
    "                                         frames=np.min([len(result.zgrid) for result in CUPRAD_res])//frame_multiplier,\n",
    "                                         blit=True)\n",
    "\n",
    "if save_animation:\n",
    "    # Define the writer using ffmpeg for mp4 format and save it\n",
    "    ani_outpath = os.path.join(os.environ['MULTISCALE_WORK_DIR'],'Bessel', 'export')\n",
    "    if not(os.path.exists(ani_outpath)): os.makedirs(ani_outpath)\n",
    "\n",
    "    FFmpegWriter = matplotlib.animation.writers['ffmpeg']\n",
    "    writer = FFmpegWriter(fps=fps, metadata=dict(artist=animation_author), bitrate=1800)\n",
    "\n",
    "    ani.save(os.path.join(ani_outpath,'Bessel_pulse_propagation.mp4'), writer=writer)\n",
    "\n",
    "plt.close(fig)\n",
    "HTML(ani.to_jshtml())\n"
   ]
  }
 ],
 "metadata": {
  "kernelspec": {
   "display_name": "Python 3",
   "language": "python",
   "name": "python3"
  },
  "language_info": {
   "codemirror_mode": {
    "name": "ipython",
    "version": 3
   },
   "file_extension": ".py",
   "mimetype": "text/x-python",
   "name": "python",
   "nbconvert_exporter": "python",
   "pygments_lexer": "ipython3",
   "version": "3.10.12"
  }
 },
 "nbformat": 4,
 "nbformat_minor": 2
}
