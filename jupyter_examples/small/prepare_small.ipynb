{
 "cells": [
  {
   "cell_type": "markdown",
   "metadata": {},
   "source": [
    "# The simulation of HHG in a gas-cell"
   ]
  },
  {
   "cell_type": "markdown",
   "metadata": {},
   "source": [
    "This notebook shows:\n",
    "* the simplest configuration to run the multiscale model: HHG process in a gas cell with a uniform density profile and a predefined gas,$^\\dagger$ driven by a Gaussian beam,\n",
    "* the creation of the input files for the whole chain: CUPRAD $\\rightarrow$ TDSE $\\rightarrow$ Hankel,\n",
    "* the two possibilities of the input files: *hdf5-archive* directly used in the CUPRAD pre-processor, *text-file-based input*$^{\\dagger\\dagger}$ processed by a further [Pythonic transformer](https://github.com/vabekjan/universal_input),\n",
    "* how to generate a list of inputs file creating a parametric scan in a given varible (the input peak intensity in our case).\n",
    "\n",
    "\n",
    "\n",
    "$^\\dagger$ Therefore, all the material constants are sourced from default values within the codes. \\\n",
    "$^{\\dagger\\dagger}$ This could be beneficial in scipting the many-files processing directly on HPC.\n"
   ]
  },
  {
   "cell_type": "markdown",
   "metadata": {},
   "source": [
    "## Load libraries"
   ]
  },
  {
   "cell_type": "code",
   "execution_count": null,
   "metadata": {},
   "outputs": [],
   "source": [
    "import numpy as np\n",
    "from scipy import integrate\n",
    "import matplotlib.pyplot as plt\n",
    "import os\n",
    "import shutil\n",
    "import h5py\n",
    "import sys\n",
    "import MMA_administration as MMA\n",
    "import mynumerics as mn\n",
    "import units\n",
    "import HHG\n",
    "from IPython.display import display, Markdown\n",
    "\n",
    "\n",
    "%matplotlib inline\n",
    "# import mpld3\n",
    "# mpld3.enable_notebook()"
   ]
  },
  {
   "cell_type": "markdown",
   "metadata": {},
   "source": [
    "The path where the input parameters are written: \\\n",
    "(The output path is driven by the environment variable `MULTISCALE_WORK_DIR`.)"
   ]
  },
  {
   "cell_type": "code",
   "execution_count": null,
   "metadata": {},
   "outputs": [],
   "source": [
    "outputs_path = os.path.join(os.environ['MULTISCALE_WORK_DIR'],'small','inputs')"
   ]
  },
  {
   "cell_type": "markdown",
   "metadata": {},
   "source": [
    "## Physical parameters\n",
    "\n",
    "<a id=\"reference_Gaussian\"></a>\n",
    "The philosophy of our input uses a \"reference Gaussian beam\". This means that our reference is the Gaussian beam with known parameters (focus, waist, focus intensity) propagating in vacuum. Then we add a medium in the path of the beam in our experiment. Finally, we specify the parameters of ht XUV camera."
   ]
  },
  {
   "cell_type": "markdown",
   "metadata": {},
   "source": [
    "### Medium parameters\n",
    "First we specify the medium. It uses pre-defined material constants for rare gases (`He`, `Ne`, `Ar`, `Kr`, `Xe`). There is also specified the ionisation model (`PPT`) and the dispersion and absorption relation in the XUV range (`NIST` and `Henke` tables are available).$^\\dagger$\n",
    "\n",
    "$^\\dagger$ Be aware that these tables might be limited for soft-XUV (low harmonics $\\Leftrightarrow$ long wavelenghts)."
   ]
  },
  {
   "cell_type": "code",
   "execution_count": null,
   "metadata": {},
   "outputs": [],
   "source": [
    "# gas specifiers\n",
    "gas = 'Ar'\n",
    "medium_length = 30e-6 # [m]\n",
    "medium_pressure = 25e-3 # mbar\n",
    "\n",
    "# sources of further \"material constants\"\n",
    "ionisation_model = 'PPT'\n",
    "XUV_dispersion_tables = 'NIST'\n",
    "XUV_absorption_tables = 'Henke'"
   ]
  },
  {
   "cell_type": "markdown",
   "metadata": {},
   "source": [
    "### Laser parameters\n",
    "We specify the input beam using the aforementioned reference Gaussian beam. Here we scan in the peak input intensities, all the other parameters remains the same. We define the list of intensities by computing the inverse cutoffs, which is obtained by inverting the formula $E_{\\text{cutoff}} = I_p + 3.17 U_p$."
   ]
  },
  {
   "cell_type": "code",
   "execution_count": null,
   "metadata": {},
   "outputs": [],
   "source": [
    "laser_wavelength = 800e-9 # [m]\n",
    "reference_Gaussian_focus = 0.\n",
    "reference_Gaussian_waist = 100e-6 # [m]\n",
    "laser_pulse_duration = 10e-15 # [s] (defined via 1/e in the electric field amplitude)\n",
    "\n",
    "# This function inverts the list of the selected harmonic orders into peak intensity array.\n",
    "peak_intensity = HHG.ComputeInvCutoff_gas(20.,mn.ConvertPhoton(laser_wavelength,'lambdaSI','omegaau'),gas = gas)*units.INTENSITYau"
   ]
  },
  {
   "cell_type": "markdown",
   "metadata": {},
   "source": [
    "### XUV camera\n",
    "The XUV camera is specified by the respective position to the cell, spectral width, and the radial size. (The resolutions are defined as Numerical parameters.)"
   ]
  },
  {
   "cell_type": "code",
   "execution_count": null,
   "metadata": {},
   "outputs": [],
   "source": [
    "XUV_camera_distance         = 1.                      # [m] (from the entry of the cell)\n",
    "XUV_camera_harmonic_range   = np.asarray([14., 25.])  # [harmonic order]\n",
    "XUV_camera_radial_range     = 0.007                   # [m]"
   ]
  },
  {
   "cell_type": "markdown",
   "metadata": {},
   "source": [
    "## Numerical parameters\n",
    "\n",
    "Here we define the numerical parameters. This release of the code leaves the responsibility of choosing proper parameters to users (some heuristics are below), except the implementatation of adaptive steps in $z$."
   ]
  },
  {
   "cell_type": "markdown",
   "metadata": {},
   "source": [
    "### CUPRAD (pulse propagation)"
   ]
  },
  {
   "cell_type": "code",
   "execution_count": null,
   "metadata": {},
   "outputs": [],
   "source": [
    "number_of_points_in_r      = 1024\n",
    "number_of_points_in_t      = 512\n",
    "\n",
    "operators_t                = 2\n",
    "first_delta_z              = 0.01 # [mm]\n",
    "phase_threshold_for_decreasing_delta_z = 0.002\t# [rad]\n",
    "\n",
    "length_of_window_for_r_normalized_to_beamwaist = 4.   # [-]\n",
    "length_of_window_for_t_normalized_to_pulse_duration = 12. # [-]\n",
    "\n",
    "number_of_absorber_points_in_time = 16  # [-]\n",
    "\n",
    "physical_output_distance_for_plasma_and_Efield = 10e-6   # [m]\n",
    "\n",
    "output_distance_in_z_steps_for_fluence_and_power   = 100  # [-]\n",
    "\n",
    "radius_for_diagnostics = 0.1 # [cm]\n",
    "\n",
    "run_time_in_hours = 5.0 # [h] "
   ]
  },
  {
   "cell_type": "code",
   "execution_count": null,
   "metadata": {},
   "outputs": [],
   "source": [
    "## Code to generate the following text ##\n",
    "zR = (np.pi*reference_Gaussian_waist**2)/laser_wavelength\n",
    "dr_CUPRAD = length_of_window_for_r_normalized_to_beamwaist * reference_Gaussian_waist*np.sqrt(1+(reference_Gaussian_focus/zR)**2)/number_of_points_in_r\n",
    "display(Markdown(rf\"\"\"### Properties of the chosen discretisation\n",
    "* The chosen discretisation in time gives ~ {\n",
    "            number_of_points_in_t/(\n",
    "            laser_pulse_duration*length_of_window_for_t_normalized_to_pulse_duration/mn.ConvertPhoton(laser_wavelength,'lambdaSI','T0SI')\n",
    "            )\n",
    "    :.0f}\n",
    "points per one laser period.\n",
    "* The stepsize in the radial discretisation is ~ ${\n",
    "      1e6*dr_CUPRAD\n",
    "      :.2f}\n",
    "~\\mu {{\\mathrm{{m}}}}$.\n",
    "* The size of the radial computational box is ~ ${\n",
    "      1e6*length_of_window_for_r_normalized_to_beamwaist * reference_Gaussian_waist\n",
    "      :.2f}\n",
    "~\\mu {{\\mathrm{{m}}}}$. The maximal radius of the reference Gaussian beam is ~ ${\n",
    "      1e6*np.max([\n",
    "            reference_Gaussian_waist*np.sqrt(1+((medium_length-reference_Gaussian_focus)/zR)**2),\n",
    "            reference_Gaussian_waist*np.sqrt(1+(reference_Gaussian_focus/zR)**2)\n",
    "            ])\n",
    "      :.2f}\n",
    "~\\mu {{\\mathrm{{m}}}}$.$^\\dagger$ \n",
    "\n",
    "$^\\dagger$ This is given at the $z$-edges of the copmutational box.\n",
    "\"\"\"))"
   ]
  },
  {
   "cell_type": "markdown",
   "metadata": {},
   "source": [
    "### TDSE\n",
    "Here we specify the computational grids and other numerical parameters. The macroscopic grid (where the TDSE's are computed in the macroscopic volume) is a subgrid of the CUPRAD grid and is specified by strides. The microscopic grids used by the TDSE's computational routines are specified by the time and space steps and the numebr of steps in space (time is inherited from CUPRAD)."
   ]
  },
  {
   "cell_type": "code",
   "execution_count": null,
   "metadata": {},
   "outputs": [],
   "source": [
    "# Macroscopic: to slect the grid based on the CUPRAD grid\n",
    "kz_step = 1\n",
    "kr_step_CTDSE = 10\n",
    "Nr_max = 100\n",
    "\n",
    "# Microscopic part\n",
    "dt_TDSE = 0.25 # [a.u.]\n",
    "dx      = 0.4  # [a.u.]\n",
    "Nx_max  = 6000 # (spans from -dx*Nx_max to dx*Nx_max)\n",
    "x_int   = 2.0  # [a.u.]     # \"Microscopic volume of the atom.\" Used to define the volumetric ionisation.\n",
    "\n",
    "CV_criterion_of_ground_state = 1e-12 # [-]\n",
    "\n",
    "# Outputs\n",
    "# choose from: 'electric field', 'electric field (Fourier),\n",
    "#              '<dj/dt>', '<dj/dt> (Fourier)'\n",
    "#              'ground-state population (projected)', 'ground-state population (integrated)'\n",
    "#              '<x>'\n",
    "list_of_CTDSE_outputs = ['electric field', '<dj/dt> (Fourier)',\n",
    "                         'ground-state population (projected)', '<x>']"
   ]
  },
  {
   "cell_type": "code",
   "execution_count": null,
   "metadata": {},
   "outputs": [],
   "source": [
    "## Code to generate the following text ##\n",
    "\n",
    "reference_Gaussian_focus_intensity = peak_intensity\n",
    "onax_entry_intensity = (reference_Gaussian_focus_intensity/units.INTENSITYau)/np.sqrt(1+(reference_Gaussian_focus/zR)**2)\n",
    "onax_entry_ponderomotive_potential = onax_entry_intensity/(4.*mn.ConvertPhoton(laser_wavelength,'lambdaSI','omegaau'))\n",
    "max_Ek_direct = 5.*onax_entry_ponderomotive_potential\n",
    "max_electron_velocity_direct = np.sqrt(2.*max_Ek_direct)\n",
    "max_Ek_rescattered = 10.*onax_entry_ponderomotive_potential\n",
    "max_electron_velocity_rescattered = np.sqrt(2.*max_Ek_rescattered)\n",
    "t_box = (length_of_window_for_t_normalized_to_pulse_duration*laser_pulse_duration)/units.TIMEau\n",
    "\n",
    "display(Markdown(rf\"\"\"### Physical consequences of the chosen numerical parameters\n",
    "* The step-size in $z$ is derived from the CUPRAD's adaptive steps, the stride for CTDSE is {kz_step}. (Generally, we do not recommend to use stride > 1.$^\\dagger$)\n",
    "* The macroscopic radial discretisation for TDSE is ${\n",
    "      1e6*kr_step_CTDSE*dr_CUPRAD  \n",
    "      :.2f}\n",
    "~\\mu {{\\mathrm{{m}}}}$; the macroscopic radial boxsize is $r_{{\\text{{max}}}}={\n",
    "    1e6*Nr_max*dr_CUPRAD\n",
    "    :.2f}\n",
    "~\\mu {{\\mathrm{{m}}}}$.\n",
    "* The outputs stored from CTDSE runs are: {', '.join(['***'+foo+'***' for foo in list_of_CTDSE_outputs])}.\n",
    "* Possible ouputs *ground-state population (projected)* and *ground-state population (integrated)* refer to various approaches to ionisation. See\n",
    "[link 1](https://journals.aps.org/pra/abstract/10.1103/PhysRevA.106.053115) or [link 2](https://theses.hal.science/tel-04192431v1/document)$^{{\\dagger\\dagger}}$ (Chapter 3) for details.\n",
    "* The microscopic computatinal box for 1D-TDSE is $x_{{\\text{{max}}}} = {\n",
    "    dx*Nx_max\n",
    "    :.0f}~{{\\mathrm{{a.u.}}}}~({\n",
    "    1e9*dx*Nx_max * units.LENGTHau    \n",
    "    :.2f}~{{\\mathrm{{nm}}}})$.\n",
    "* The maximal energy in the spectrum according to the chosen discretisation is $E_{{\\text{{max}}}} = {\n",
    "    mn.ConvertPhoton((2.*np.pi/dt_TDSE),'omegaau','eV')\n",
    "    :.2f}~{{\\mathrm{{eV}}}}$ ($H_{{\\text{{max}}}} \\sim {\n",
    "    (2.*np.pi/dt_TDSE)/mn.ConvertPhoton(laser_wavelength,'lambdaSI','omegaau')\n",
    "    :.0f}$).\n",
    "* Theoretical maximal distances of a classical electron ejected at the peak of the pulse reached at,\n",
    "respectively, the end of the compuational box and the trailing edge of the pulse ($1/\\mathrm{{e}}^2$ of the intensity).$^{{\\dagger\\dagger\\dagger}}$\n",
    "    * [Direct electrons with $E_{{\\text{{kin}}}} \\sim 5U_p$](https://doi.org/10.1103/PhysRevA.106.053115) $s_{{\\text{{max}}}} = {\n",
    "    max_electron_velocity_direct*0.5*t_box\n",
    "    :.2f}~{{\\mathrm{{a.u.}}}}~({\n",
    "    1e9*max_electron_velocity_direct*0.5*t_box*units.LENGTHau    \n",
    "    :.2f}~{{\\mathrm{{nm}}}})$.\n",
    "    * [Rescatterred electrons $E_{{\\text{{kin}}}} \\sim 10U_p$](https://doi.org/10.1038/nphys914) $s_{{\\text{{max}}}} = {\n",
    "    max_electron_velocity_rescattered*0.5*t_box\n",
    "    :.2f}~{{\\mathrm{{a.u.}}}}~({\n",
    "    1e9*max_electron_velocity_rescattered*0.5*t_box*units.LENGTHau    \n",
    "    :.2f}~{{\\mathrm{{nm}}}})$, $s_{{\\text{{max,2}}}} = {\n",
    "    max_electron_velocity_rescattered*0.5*(laser_pulse_duration/units.TIMEau)\n",
    "    :.2f}~{{\\mathrm{{a.u.}}}}~({\n",
    "    1e9*max_electron_velocity_rescattered*0.5*(laser_pulse_duration/units.TIMEau)*units.LENGTHau    \n",
    "    :.2f}~{{\\mathrm{{nm}}}})$.\n",
    "* The cut-off for the peak on-axis entry intensity is $H_{{\\text{{cut-off}}}} = {\n",
    "   HHG.ComputeCutoff_gas(onax_entry_intensity,mn.ConvertPhoton(laser_wavelength,'lambdaSI','omegaau'),gas=gas)[1]\n",
    "    :.2f}$ (given by $I_P + 3.17 U_p$).\n",
    "\n",
    "\n",
    "$^\\dagger$ The step-size in $z$ is usually adapted such that the variations of the phase are affecting XUV when using a coarser grid. \\\n",
    "$^{{\\dagger\\dagger}}$ *ground-state population (projected)* corresponds to Eq. (3.20) and *ground-state population (projected)* to Eq. (3.1) of [link 2](https://theses.hal.science/tel-04192431v1/document). \\\n",
    "$^{{\\dagger\\dagger\\dagger}}$ This is computed from the theoretical peak intensity. Especially for high intensities, [it might be fastly clamped and the effective peak intensity is lower](https://doi.org/10.1007/s003400100637).\n",
    "\"\"\"))"
   ]
  },
  {
   "cell_type": "markdown",
   "metadata": {},
   "source": [
    "### Hankel\n",
    "Here we specify the computational grids for Hankel transoform. These are subgrids of TDSE's grids specified by strides and maxima. Next, we specify by `store_cumulative_field` whether the cumulative results along $z$ are stored. Finally, we chooses the number of threads for the computaiton here."
   ]
  },
  {
   "cell_type": "code",
   "execution_count": null,
   "metadata": {},
   "outputs": [],
   "source": [
    "store_cumulative_field          = False\n",
    "kr_step_Hankel                   = 1\n",
    "ko_step                          = 2\n",
    "Nr_max_Hankel_integration        = 235\n",
    "XUV_camera_number_of_r_points    = 100\n",
    "\n",
    "Nthreads = 12"
   ]
  },
  {
   "cell_type": "code",
   "execution_count": null,
   "metadata": {},
   "outputs": [],
   "source": [
    "## Code to generate the following text ##\n",
    "dr_Hankel = kr_step_CTDSE*kr_step_Hankel*dr_CUPRAD\n",
    "\n",
    "\n",
    "first_diffraction_maximum_cutoff = laser_wavelength/\\\n",
    "        (dr_Hankel*HHG.ComputeCutoff_gas(onax_entry_intensity,mn.ConvertPhoton(laser_wavelength,'lambdaSI','omegaau'),gas=gas)[1])\n",
    "\n",
    "display(Markdown(rf\"\"\"### The role of parameters of the camera and the integration\n",
    "* The macroscopic radial discretisation for Hankel integral is ${\n",
    "      1e6*dr_Hankel   \n",
    "      :.2f}\n",
    "~\\mu {{\\mathrm{{m}}}}$; the macroscopic radial boxsize is $r_{{\\text{{max, integration}}}}={\n",
    "    1e6*Nr_max_Hankel_integration*dr_Hankel \n",
    "    :.2f}\n",
    "~\\mu {{\\mathrm{{m}}}}$.\n",
    "* The camera size, $r_{{\\text{{max, camera}}}}={\n",
    "    1e3*XUV_camera_radial_range/XUV_camera_distance\n",
    "    :.2f}\n",
    "~{{\\mathrm{{mm}}}}$, gives the maximal divergence recorded by the XUV is $\\theta_{{\\text{{max, camera}}}}={\n",
    "    1e3*np.arctan(XUV_camera_radial_range/XUV_camera_distance ) \n",
    "    :.2f}\n",
    "~{{\\mathrm{{mrad}}}}$. (See the initial section with the physical parameters.)\n",
    "* The diffraction limit for the maximal expected cut-off provided by the discretisation in the integral is  $r_{{\\text{{max, camera, cut-off}}}}={\n",
    "    1e3*first_diffraction_maximum_cutoff\n",
    "    :.2f}\n",
    "~{{\\mathrm{{mm}}}}$ (corresponding divergence $\\theta_{{\\text{{max, camera, cut-off}}}}={\n",
    "    1e3*np.arctan(first_diffraction_maximum_cutoff/XUV_camera_distance ) \n",
    "    :.2f}\n",
    "~{{\\mathrm{{mrad}}}}$)\n",
    "\"\"\"))\n",
    "\n",
    "# print(laser_wavelength/(50.*dr_Hankel))"
   ]
  },
  {
   "cell_type": "code",
   "execution_count": null,
   "metadata": {},
   "outputs": [],
   "source": [
    "# Code to create the input hdf5-file\n",
    "## First, we prepare dictionaries between hdf5-inputs and this jupyter notebook\n",
    "\n",
    "global_input_names_to_jupyter_variables = {\n",
    "    'gas_preset'                                : (np.bytes_(gas),                       '[-]'   ),\n",
    "    'medium_pressure_in_bar'                    : (medium_pressure,                      '[bar]' )\n",
    "}\n",
    "\n",
    "\n",
    "CUPRAD_names_to_jupyter_variables = {\n",
    "    # laser parameters\n",
    "    'laser_wavelength'                          : (1e2*laser_wavelength,                  '[cm]'  ),\n",
    "    'laser_pulse_duration_in_1_e_Efield'        : (1e15*laser_pulse_duration,             '[fs]' ),\n",
    "    'laser_focus_intensity_Gaussian'            : (reference_Gaussian_focus_intensity,    '[W/m2]'  ),\n",
    "    'laser_focus_beamwaist_Gaussian'            : (reference_Gaussian_waist,              '[m]'  ),\n",
    "    'laser_focus_position_Gaussian'             : (reference_Gaussian_focus,              '[m]'  ),\n",
    "\n",
    "    # medium parameters\n",
    "    'medium_physical_distance_of_propagation'   : (medium_length,                         '[m]'   ),\n",
    "\n",
    "    # ionisation\n",
    "    'ionization_model'                          : (np.bytes_(ionisation_model),          '[-]'  ),\n",
    "\n",
    "    # numerics\n",
    "    'numerics_number_of_points_in_r'            : (number_of_points_in_r,                 '[-]'  ),\n",
    "    'numerics_number_of_points_in_t'            : (number_of_points_in_t,                 '[-]'  ),\n",
    "    'numerics_operators_t_t-1'                  : (operators_t,                           '[-]'  ),\n",
    "    'numerics_physical_first_stepwidth'         : (first_delta_z,                         '[mm]' ),\n",
    "    'numerics_phase_threshold_for_decreasing_delta_z' : \n",
    "        (phase_threshold_for_decreasing_delta_z,                '[rad]' ),\n",
    "    'numerics_length_of_window_for_r_normalized_to_beamwaist':\n",
    "        (length_of_window_for_r_normalized_to_beamwaist,        '[-]'   ),\n",
    "    'numerics_length_of_window_for_t_normalized_to_pulse_duration' :\n",
    "        (length_of_window_for_t_normalized_to_pulse_duration,   '[-]'   ),\n",
    "    'numerics_number_of_absorber_points_in_time':\n",
    "        (number_of_absorber_points_in_time ,                    '[-]'   ),\n",
    "    'numerics_physical_output_distance_for_plasma_and_Efield' :\n",
    "        (physical_output_distance_for_plasma_and_Efield,        '[m]'   ),\n",
    "    'numerics_output_distance_in_z-steps_for_fluence_and_power' :\n",
    "        (output_distance_in_z_steps_for_fluence_and_power,      '[-]'   ),\n",
    "    'numerics_radius_for_diagnostics'           : (radius_for_diagnostics,                '[cm]' ),\n",
    "    'numerics_run_time_in_hours'                : (run_time_in_hours,                     '[s]'  )\n",
    "}\n",
    "\n",
    "\n",
    "CTDSE_names_to_jupyter_variables = {\n",
    "    # Physics\n",
    "    'x_int'                                     : (x_int,                                 '[a.u.]' ),\n",
    "\n",
    "    # Macro grid\n",
    "    'Nr_max'                                    : (Nr_max,                                '[-]'    ),\n",
    "    'kr_step'                                   : (kr_step_CTDSE,                               '[-]'    ),\n",
    "    'kz_step'                                   : (kz_step,                               '[-]'    ),  \n",
    "\n",
    "    # Microscopic numerics\n",
    "    'dx'                                        : (dx,                                    '[a.u.]' ),\n",
    "    'Nx_max'                                    : (Nx_max,                                '[a.u.]' ),\n",
    "    'dt'                                        : (dt_TDSE,                               '[a.u.]' ),\n",
    "\n",
    "    'CV_criterion_of_GS'                        : (CV_criterion_of_ground_state,          '[a.u.]')\n",
    "}\n",
    "\n",
    "\n",
    "CTDSE_outputs_to_jupyter_names = {\n",
    "    'print_Efield'                : 'electric field',\n",
    "    'print_F_Efield'              : 'electric field (Fourier)',\n",
    "    'print_Source_Term'           : '<dj/dt>',\n",
    "    'print_F_Source_Term'         : '<dj/dt> (Fourier)',\n",
    "    'print_GS_population'         : 'ground-state population (projected)',\n",
    "    'print_integrated_population' : 'ground-state population (integrated)',\n",
    "    'print_x_expectation_value'   : '<x>'}\n",
    "\n",
    "Hankel_names_to_jupyter_variables = {\n",
    "    'distance_FF'                               : (XUV_camera_distance,                   '[m]'  ),\n",
    "    'rmax_FF'                                   : (XUV_camera_radial_range,               '[m]'  ),\n",
    "    'Nr_FF'                                     : (XUV_camera_number_of_r_points,         '[-]'  ),\n",
    "\n",
    "    'XUV_table_type_dispersion'                 : (np.bytes_(XUV_dispersion_tables),     '[-]'  ),\n",
    "    'XUV_table_type_absorption'                 : (np.bytes_(XUV_absorption_tables),     '[-]'  ),\n",
    "\n",
    "    'kr_step'                                   : (kr_step_Hankel,                        '[-]'  ),\n",
    "    'ko_step'                                   : (ko_step,                               '[-]'  ),\n",
    "    'Nr_max'                                    : (Nr_max_Hankel_integration,             '[-]'  ),\n",
    "    'Harmonic_range'                            : (XUV_camera_harmonic_range,      '[harmonic_order]'),\n",
    "\n",
    "    'store_cumulative_result'                  : (int(store_cumulative_field),          '[-]'  ),   \n",
    "    'Nthreads'                                  : (Nthreads,                              '[-]'  ) \n",
    "}\n",
    "\n",
    "\n"
   ]
  },
  {
   "cell_type": "markdown",
   "metadata": {},
   "source": [
    "## Prepare the input file\n",
    "\n",
    "Here we create the HDF5 file containing all the input parameters. First, we provide several dictionaries (for different modules) to translate the local variables usedin this jupyter notebook to the nomenclature used in the code. Second, we create the list of inputs. It uses two \"transformers\" of the inputs, which results in inputs either directly in the hdf5-archives or text inputs compatibles with [this parser](https://github.com/vabekjan/universal_input)."
   ]
  },
  {
   "cell_type": "markdown",
   "metadata": {},
   "source": [
    "We clean up the folder where the inputs are generated, set the filename patterns, and generate the series of the input files."
   ]
  },
  {
   "cell_type": "code",
   "execution_count": null,
   "metadata": {},
   "outputs": [],
   "source": [
    "## Create inputs\n",
    "\n",
    "from inputs_transformer import add_variables2hdf5, variables2text\n",
    "\n",
    "h5_filename        = 'results.h5'\n",
    "if os.path.exists(outputs_path): shutil.rmtree(outputs_path)  # clean the input directory if it existed\n",
    "os.makedirs(outputs_path)\n",
    "\n",
    "h5_filename = os.path.join(outputs_path,h5_filename)\n",
    "\n",
    "with h5py.File(h5_filename,'w') as f: \n",
    "\n",
    "    add_variables2hdf5(f,\n",
    "                        global_input_names_to_jupyter_variables,\n",
    "                        CUPRAD_names_to_jupyter_variables,\n",
    "                        CTDSE_names_to_jupyter_variables,\n",
    "                        CTDSE_outputs_to_jupyter_names,\n",
    "                        list_of_CTDSE_outputs,\n",
    "                        Hankel_names_to_jupyter_variables)\n",
    "                        \n"
   ]
  }
 ],
 "metadata": {
  "kernelspec": {
   "display_name": "Python 3",
   "language": "python",
   "name": "python3"
  },
  "language_info": {
   "codemirror_mode": {
    "name": "ipython",
    "version": 3
   },
   "file_extension": ".py",
   "mimetype": "text/x-python",
   "name": "python",
   "nbconvert_exporter": "python",
   "pygments_lexer": "ipython3",
   "version": "3.10.12"
  }
 },
 "nbformat": 4,
 "nbformat_minor": 4
}
