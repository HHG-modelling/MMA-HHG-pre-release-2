{
 "cells": [
  {
   "cell_type": "markdown",
   "metadata": {},
   "source": [
    "# The analysis of multiscale model results: a list of results\n",
    "\n",
    "This notebook shows various analyses of the results of the multiscale model. We go into the details of the pulse shaping, the plasma profile, and we show also the build up of the harmonic signal.\n",
    "\n",
    "See complementary analyses:\n",
    "* [Jupyter notebook processing a list of results.](./analyse_cell_list.ipynb)\n",
    "* [Jupyter notebook analysing a file, which contains also the outputs of TDSE module](../density_profile/analyse_density_profile.ipynb) (these results were removed in the actual tutorial because they are the largest datasets from the model).\n",
    "\n"
   ]
  },
  {
   "cell_type": "markdown",
   "metadata": {},
   "source": [
    "## Load libraries & initial data"
   ]
  },
  {
   "cell_type": "code",
   "execution_count": null,
   "metadata": {},
   "outputs": [],
   "source": [
    "## python modules used within this notebook\n",
    "import numpy as np\n",
    "from scipy import integrate\n",
    "from scipy import interpolate\n",
    "import matplotlib.pyplot as plt\n",
    "import matplotlib.animation\n",
    "import matplotlib.colors as colors\n",
    "import matplotlib.gridspec as gridspec\n",
    "from contextlib import ExitStack\n",
    "import os\n",
    "import h5py\n",
    "import sys\n",
    "import copy\n",
    "import MMA_administration as MMA\n",
    "import mynumerics as mn\n",
    "import units\n",
    "from IPython.display import display, Markdown\n",
    "from IPython.display import HTML\n",
    "\n",
    "import dataformat_CUPRAD as dfC\n",
    "import HHG\n",
    "\n",
    "anims_author = 'Jan Vábek'\n",
    "\n",
    "matplotlib.rcParams['animation.embed_limit'] = 200.\n",
    "%matplotlib inline"
   ]
  },
  {
   "cell_type": "markdown",
   "metadata": {},
   "source": [
    "Here we dicide if we `show` animations here or `save` them as well."
   ]
  },
  {
   "cell_type": "code",
   "execution_count": null,
   "metadata": {},
   "outputs": [],
   "source": [
    "visualisation = 'show'"
   ]
  },
  {
   "cell_type": "markdown",
   "metadata": {},
   "source": [
    "## Load data\n",
    "\n",
    "Compared to the [analysis of a single file](./analyse_cell_single.ipynb), we reduce the resolution in the radial coordinate $\\rho$ to reduce the size of data within this notebook."
   ]
  },
  {
   "cell_type": "code",
   "execution_count": null,
   "metadata": {},
   "outputs": [],
   "source": [
    "# here we specify a coarser r-grid while loading the data\n",
    "r_resolution_specifier = [False, 10e-6/3., 230e-6] # ['use the coarser data', radial step, maximal radial coordinate] (all in SI units)\n",
    "list_of_loaded_simulations = ['results_cell_1.h5','results_cell_2.h5','results_cell_3.h5']\n",
    "demos_path = os.path.join(os.environ['MULTISCALE_DEMOS'],'gas_cell')\n",
    "\n",
    "h5files = [os.path.join(demos_path, foo) for foo in list_of_loaded_simulations] \n",
    "\n",
    "# load the data\n",
    "Nsim = len(h5files)\n",
    "CUPRAD_res = []\n",
    "with ExitStack() as stack:\n",
    "    # Open all files and store file objects in a list\n",
    "    files = [stack.enter_context(h5py.File(h5file, 'r')) for h5file in h5files]\n",
    "    \n",
    "    # Load data from each file and append it to CUPRAD_res\n",
    "    for f in files:\n",
    "        CUPRAD_res.append(dfC.get_data(f,r_resolution=r_resolution_specifier))\n",
    "        CUPRAD_res[-1].get_plasma(f,r_resolution=r_resolution_specifier)\n",
    "\n",
    "zmax_all = np.min([foo.zgrid[-1] for foo in CUPRAD_res])"
   ]
  },
  {
   "cell_type": "markdown",
   "metadata": {},
   "source": [
    "Here we print some basic characteristics of the simulation. We assume that the different simulations differs only in the discretisation in $z$ due to adaptive steps and all the other parameters are the same."
   ]
  },
  {
   "cell_type": "code",
   "execution_count": null,
   "metadata": {},
   "outputs": [],
   "source": [
    "# code to generate the following text\n",
    "display(Markdown(\n",
    "rf\"\"\"* The ($1/\\mathrm{{e}}$) entry pulse duration ${\n",
    "      CUPRAD_res[0].pulse_duration_entry   \n",
    "      :.1f}~\\mathrm{{fs}}$\n",
    "* The box size is ($z-$ and $\\rho$-grids start at 0):\n",
    "    * $z_{{\\mathrm{{max}}}}={\n",
    "      1e3*zmax_all\n",
    "      :.1f}~\\mathrm{{mm}},~N_{{z,\\text{{min}}}}={\n",
    "      np.min([np.shape(foo.E_zrt)[0] for foo in CUPRAD_res])   \n",
    "      :.0f},~N_{{z,\\text{{max}}}}={\n",
    "      np.max([np.shape(foo.E_zrt)[0] for foo in CUPRAD_res])   \n",
    "      :.0f}$,\n",
    "    * $t_{{\\mathrm{{min/max}}}}=\\mp{\n",
    "      1e15*CUPRAD_res[0].tgrid[-1]   \n",
    "      :.0f}~\\mathrm{{fs}},~N_t={\n",
    "      np.shape(CUPRAD_res[0].E_zrt)[2]   \n",
    "      :.0f}$,\n",
    "    * $\\rho_{{\\mathrm{{max}}}}={\n",
    "      1e6*CUPRAD_res[0].rgrid[-1]   \n",
    "      :.0f}~\\mu\\mathrm{{m}},~N_\\rho={\n",
    "      np.shape(CUPRAD_res[0].E_zrt)[1]   \n",
    "      :.0f}.$\n",
    "\"\"\"))"
   ]
  },
  {
   "cell_type": "markdown",
   "metadata": {},
   "source": [
    "## Plot the propagating pulse\n",
    "The visualisation is analogical to [the single-file case](./analyse_cell_single.ipynb), the difference is that the $z$-grids are different for each file. We thus change the approach and define first the $z$-values for plotting and find corresponiding subarrays. Next, we show only the electric fields here."
   ]
  },
  {
   "cell_type": "code",
   "execution_count": null,
   "metadata": {},
   "outputs": [],
   "source": [
    "tlim = np.asarray((-60,60))   # [fs]  the time range for plotting the propagating pulse\n",
    "rlim = 300                    # [mum] the radial range for plotting the propagating pulse\n",
    "\n",
    "dz_plot = 20e-6 # [m]\n",
    "Ncolumns = 3 # this specifies into how many columns is the figure split\n",
    "\n",
    "save_animation = (visualisation == 'save')\n",
    "if save_animation:\n",
    "    ani_outpath = os.path.join(os.environ['MULTISCALE_WORK_DIR'],'gas_cell', 'export')\n",
    "    if not(os.path.exists(ani_outpath)): os.makedirs(ani_outpath)"
   ]
  },
  {
   "cell_type": "code",
   "execution_count": null,
   "metadata": {},
   "outputs": [],
   "source": [
    "# Code to generate the animated figure\n",
    "\n",
    "# set the number of points in z according to the spacing\n",
    "Nz_plot = round(zmax_all/dz_plot)\n",
    "# find indices according to tlim for all tgrids\n",
    "k_t_min, k_t_max = tuple(zip(*[mn.FindInterval(1e15*CUPRAD_res[k1].tgrid,1.05*tlim) for k1 in range(len(CUPRAD_res))]))\n",
    "\n",
    "Nrows = Nsim//Ncolumns if (Nsim%Ncolumns==0) else (Nsim//Ncolumns)+1\n",
    "\n",
    "# Create figure\n",
    "\n",
    "fig, axes = plt.subplots(Nrows, Ncolumns, figsize=(15, Nrows*4))  # Create a grid for plots\n",
    "axes = axes.flatten()\n",
    "\n",
    "\n",
    "pcs = []; cbars = []\n",
    "# Create pcolormesh plots and colorbars\n",
    "for k1, ax in enumerate(axes[:len(CUPRAD_res)]):\n",
    "    \n",
    "    # symmetrise and plot the data\n",
    "    rgrid_sym, data_sym = mn.symmetrize_y(1e6*CUPRAD_res[k1].rgrid, 1e-9*CUPRAD_res[k1].E_zrt[0, :, k_t_min[k1]:k_t_max[k1]].T)\n",
    "    pc = ax.pcolormesh(1e15*CUPRAD_res[k1].tgrid[k_t_min[k1]:k_t_max[k1]],\n",
    "                       rgrid_sym,\n",
    "                       data_sym.T,\n",
    "                       shading='auto', cmap='seismic')\n",
    "    pcs.append(pc)\n",
    "    # make colorbar\n",
    "    cbar = fig.colorbar(pc, ax=ax)\n",
    "    cbar.ax.set_ylabel(r'$\\mathcal{E}$ [GV/m]', rotation=90)\n",
    "    cbars.append(cbar)    \n",
    "\n",
    "    # Set axis properties\n",
    "    ax.set_xlim(tlim)\n",
    "    ax.set_title(\"z={:.2f} mm\".format(1e3*CUPRAD_res[k1].zgrid[0]))\n",
    "    ax.set_xlabel(r'$t~[\\mathrm{fs}]$')\n",
    "    ax.set_ylabel(r'$\\rho~[\\mu\\mathrm{m}]$')\n",
    "\n",
    "# turn off axes for empty plots\n",
    "for k1 in range(Nsim,Ncolumns*Nrows): axes[k1].axis('off')\n",
    "\n",
    "\n",
    "\n",
    "def update(frame):\n",
    "    for k1 in range(len(CUPRAD_res)):\n",
    "        kz_local = mn.FindInterval(CUPRAD_res[k1].zgrid,frame*dz_plot)\n",
    "        # Update the data for each subplot\n",
    "        data = 1e-9*CUPRAD_res[k1].E_zrt[kz_local, :, k_t_min[k1]:k_t_max[k1]]\n",
    "        data_sym = mn.symmetrize_y(1e6*CUPRAD_res[k1].rgrid, 1e-9*CUPRAD_res[k1].E_zrt[kz_local, :, k_t_min[k1]:k_t_max[k1]].T)[1].T\n",
    "        pcs[k1].set_array(data_sym.ravel())\n",
    "        max_value_symmetric = np.max(np.abs((data.min(), data.max())))\n",
    "        pcs[k1].set_clim(-max_value_symmetric,max_value_symmetric)\n",
    "        cbars[k1].update_normal(pcs[k1])\n",
    "\n",
    "        axes[k1].set_title(\"z={:.2f} mm\".format(1e3*CUPRAD_res[k1].zgrid[kz_local]))\n",
    "\n",
    "    return pcs\n",
    "\n",
    "# Ensure the layout does not have overlaps and everything is nicely spaced\n",
    "fig.tight_layout() \n",
    "\n",
    "# animate\n",
    "ani = matplotlib.animation.FuncAnimation(fig,\n",
    "                                         update,\n",
    "                                         frames=Nz_plot,\n",
    "                                         blit=True)\n",
    "\n",
    "if save_animation:\n",
    "    # Define the writer using ffmpeg for mp4 format and save it\n",
    "    FFmpegWriter = matplotlib.animation.writers['ffmpeg']\n",
    "    writer = FFmpegWriter(fps=fps, metadata=dict(artist=animation_author), bitrate=1800)\n",
    "\n",
    "    ani.save(os.path.join(ani_outpath,'gas_cell_list_Efield.mp4'), writer=writer)\n",
    "\n",
    "plt.close(fig)\n",
    "HTML(ani.to_jshtml())\n"
   ]
  },
  {
   "cell_type": "markdown",
   "metadata": {},
   "source": [
    "## Plasma channels\n",
    "Here we show plasma channels after the passage of the pulse."
   ]
  },
  {
   "cell_type": "code",
   "execution_count": null,
   "metadata": {},
   "outputs": [],
   "source": [
    "# Code to generate the figure\n",
    "\n",
    "Nrows = Nsim//Ncolumns if (Nsim%Ncolumns==0) else (Nsim//Ncolumns)+1\n",
    "\n",
    "fig, axes = plt.subplots(Nrows, Ncolumns, figsize=(15, Nrows*4))  # Create a 2x2 grid of subplots\n",
    "axes = axes.flatten()\n",
    "\n",
    "\n",
    "pcs = []; cbars = []\n",
    "# Create pcolormesh plots and colorbars\n",
    "for k1, ax in enumerate(axes[:len(CUPRAD_res)]):\n",
    "\n",
    "    # symmetrize and plot the data\n",
    "    rgrid_sym, data_sym = mn.symmetrize_y(1e6*CUPRAD_res[k1].plasma.rgrid, (1e2/CUPRAD_res[k1].effective_neutral_particle_density)*CUPRAD_res[k1].plasma.value_zrt[:, :, -1])\n",
    "    pc = ax.pcolormesh(1e3*CUPRAD_res[k1].plasma.zgrid,\n",
    "                       rgrid_sym,\n",
    "                       data_sym.T,\n",
    "                       shading='auto')\n",
    "\n",
    "    pcs.append(pc)\n",
    "    cbar = fig.colorbar(pc, ax=ax)\n",
    "    cbar.ax.set_ylabel(r'relative plasma density [%]', rotation=90)\n",
    "    cbars.append(cbar)    \n",
    "\n",
    "    # Set axis properties\n",
    "    ax.set_title(f\"simulation {k1+1}\")\n",
    "    ax.set_xlabel(r'$z~[\\mathrm{mm}]$')\n",
    "    ax.set_ylabel(r'$\\rho~[\\mu\\mathrm{m}]$')\n",
    "\n",
    "# turn off axes for empty plots\n",
    "for k1 in range(Nsim,Ncolumns*Nrows): axes[k1].axis('off')\n",
    "\n",
    "fig.tight_layout() \n",
    "plt.show()"
   ]
  },
  {
   "cell_type": "markdown",
   "metadata": {},
   "source": [
    "## XUV camera\n",
    "\n",
    "Finally, we show the far field harmonic spectra and cummulative signal in the medium. The data are load here."
   ]
  },
  {
   "cell_type": "code",
   "execution_count": null,
   "metadata": {},
   "outputs": [],
   "source": [
    "# Set parameters\n",
    "logscale = True\n",
    "normalise_spectra = True\n",
    "orders_to_plot = 3 "
   ]
  },
  {
   "cell_type": "code",
   "execution_count": null,
   "metadata": {},
   "outputs": [],
   "source": [
    "# Code to generate the figure\n",
    "Nrows = Nsim//Ncolumns if (Nsim%Ncolumns==0) else (Nsim//Ncolumns)+1\n",
    "\n",
    "fig, axes = plt.subplots(Nrows, Ncolumns, figsize=(15, Nrows*4))  # Create a 2x2 grid of subplots\n",
    "axes = axes.flatten()\n",
    "\n",
    "\n",
    "pcs = []; cbars = []\n",
    "# Create pcolormesh plots and colorbars\n",
    "for k1, ax in enumerate(axes[:Nsim]):\n",
    "    \n",
    "    # read data from the respective file\n",
    "    with h5py.File(h5files[k1], 'r') as f:\n",
    "        far_field_signal =       f[MMA.paths['Hankel_outputs']+'/cumulative_field'][-1,:,:,0] +\\\n",
    "                              1j*f[MMA.paths['Hankel_outputs']+'/cumulative_field'][-1,:,:,1]\n",
    "        theta_grid_Hankel  = f[MMA.paths['Hankel_outputs']+'/rgrid'][:]/mn.readscalardataset(f,MMA.paths['Hankel_inputs']+'/distance_FF','N')\n",
    "        Hgrid_Hankel       = f[MMA.paths['Hankel_outputs']+'/ogrid'][:]/CUPRAD_res[k1].omega0\n",
    "\n",
    "    # Symmetrize data and plot the data\n",
    "    theta_grid_sym, data_sym = mn.symmetrize_y(1e3 * theta_grid_Hankel, np.abs(far_field_signal).T)\n",
    "    scale_kwargs = {'norm' : colors.LogNorm(vmin=(10**(-orders_to_plot))*data_sym.max(), vmax=data_sym.max())} if logscale else {}\n",
    "    pc = ax.pcolormesh(Hgrid_Hankel,\n",
    "                       theta_grid_sym,\n",
    "                       data_sym.T,\n",
    "                       shading='auto',\n",
    "                       **scale_kwargs)\n",
    "\n",
    "    pcs.append(pc)\n",
    "    cbar = fig.colorbar(pc, ax=ax, orientation = 'horizontal')\n",
    "    cbar.ax.set_xlabel(r'harmonic signal [arb. .u.]')\n",
    "    cbars.append(cbar)\n",
    "    \n",
    "    # Set axis properties, labels, ...\n",
    "    ax.set_title(f\"simulation {k1 + 1}\")\n",
    "    ax.set_xlabel('harmonic order [-]')\n",
    "    H_min, H_max = ax.get_xlim() \n",
    "    ax.set_xticks(range(int(np.ceil(H_min)) | 1, int(np.floor(H_max)) + 1, 10))              # Generate major odd ticks within the H-range\n",
    "    ax.set_xticks(range(int(np.ceil(H_min)) | 1, int(np.floor(H_max)) + 1, 2), minor = True) # Generate odd ticks within the H-range\n",
    "    ax.set_ylabel(r'divergence [mrad]')\n",
    "\n",
    "# turn off axes for empty plots\n",
    "for k1 in range(Nsim,Ncolumns*Nrows): axes[k1].axis('off')\n",
    "\n",
    "\n",
    "# Ensure the layout does not have overlaps and everything is nicely spaced\n",
    "fig.tight_layout() \n",
    "plt.show()"
   ]
  }
 ],
 "metadata": {
  "kernelspec": {
   "display_name": "Python 3",
   "language": "python",
   "name": "python3"
  },
  "language_info": {
   "codemirror_mode": {
    "name": "ipython",
    "version": 3
   },
   "file_extension": ".py",
   "mimetype": "text/x-python",
   "name": "python",
   "nbconvert_exporter": "python",
   "pygments_lexer": "ipython3",
   "version": "3.10.12"
  }
 },
 "nbformat": 4,
 "nbformat_minor": 2
}
