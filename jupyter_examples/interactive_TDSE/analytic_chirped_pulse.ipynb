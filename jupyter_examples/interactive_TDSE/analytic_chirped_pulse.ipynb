{
 "cells": [
  {
   "cell_type": "code",
   "execution_count": null,
   "metadata": {},
   "outputs": [],
   "source": [
    "## python modules used within this notebook\n",
    "import numpy as np\n",
    "from scipy import integrate\n",
    "from scipy import interpolate\n",
    "import matplotlib.pyplot as plt\n",
    "import matplotlib.animation\n",
    "import matplotlib.colors as colors\n",
    "import os\n",
    "import h5py\n",
    "import sys\n",
    "import mynumerics as mn\n",
    "import units\n",
    "from IPython.display import display, Markdown\n",
    "from IPython.display import HTML\n",
    "\n",
    "\n",
    "matplotlib.rcParams['animation.embed_limit'] = 200.\n",
    "%matplotlib inline"
   ]
  },
  {
   "cell_type": "markdown",
   "metadata": {},
   "source": [
    "## TDSE with a custom input\n",
    "\n",
    "We show the interface for the TDSE solver accessed directly through Python. We use this solver for a custom field we define, and then analyse the result in details. We will show the spectrum of the source term, wavefunction, we do energetic analyses via the Gabor transform and [invariant energetic distribution](https://doi.org/10.1103/PhysRevA.106.053115). Finally, we will show the depletion of the ground state.\n",
    "\n",
    "\n",
    "First, we import the compiled dynamical library and its Pythonic wrapper:"
   ]
  },
  {
   "cell_type": "code",
   "execution_count": null,
   "metadata": {},
   "outputs": [],
   "source": [
    "from PythonTDSE import *\n",
    "\n",
    "# Compiled dynamic C library\n",
    "path_to_DLL = os.path.join(os.environ['TDSE_1D_BUILD'],'libsingleTDSE.so')\n",
    "DLL = TDSE_DLL(path_to_DLL)"
   ]
  },
  {
   "cell_type": "markdown",
   "metadata": {},
   "source": [
    "### Define the custom input field & numerical parameters\n",
    "\n",
    "Here we define the input parameters for the CTDSE solver and the initial pulse. We show an example of a chirped pulse with a $\\sin^2$-envelope. The field is then given by\n",
    "\n",
    "$$ \\mathcal{E}(t) = \\mathcal{E}_0 \\sin^2 \\left( \\frac{t}{T_{\\text{envelope}}} \\right) \\cos \\left(\\omega_0 t + \\omega_c t^2 \\right) \\,.$$\n",
    "\n",
    "(Note that the instantaneous frequency is then $\\omega_i(t) = \\omega_0 + 2\\omega_c t$. This means that $\\omega_0$ cannot be taken as the central frequency, the frequency at the peak of the pulse is $\\omega_i(\\pi T_{\\text{envelope}}/2) = \\omega_0 + \\pi \\omega_c T_{\\text{envelope}}$.)"
   ]
  },
  {
   "cell_type": "code",
   "execution_count": null,
   "metadata": {},
   "outputs": [],
   "source": [
    "omega0 = mn.ConvertPhoton(1000e-9,'lambdaSI','omegaau')\n",
    "chirp = 2e-4\n",
    "E_0 = 0.15   # peak electric field amplitude\n",
    "\n",
    "T0 = mn.ConvertPhoton(omega0,'omegaau','T0au') # the duration of the reference cycle\n",
    "T_max = 3*T0 # total pulse duration expressed in the number of the reference cycles\n",
    "N_t = 10000  # # of points for field construction (not for TDSE)\n",
    "\n",
    "# Construct the field\n",
    "tgrid = np.linspace(0, T_max, N_t)\n",
    "E = E_0* (np.sin(np.pi*tgrid/T_max)**2) *np.cos(omega0*tgrid + chirp*(tgrid)**2)\n",
    "\n",
    "\n",
    "# Create instance of input structure\n",
    "inputs = inputs_def()\n",
    "\n",
    "# Set the inputs for the TDSE solver\n",
    "trg_a = 1.1893 # Argon \n",
    "inputs.init_default_inputs(\n",
    "            Eguess   = -0.5145 ,\n",
    "            trg_a    = trg_a ,     \n",
    "            dt       = 0.125 ,\n",
    "            dx       = 0.4 ,\n",
    "            num_r    = 16000 ,\n",
    "            writewft = 1 ,\n",
    "            tprint   = 1. ,\n",
    "            x_int    = 2. )\n",
    "# Note: Parameters currently needs to be fixed for the gauge-invariant energetic analysis (gas & some of numerics for the same ensemble of bound states)"
   ]
  },
  {
   "cell_type": "markdown",
   "metadata": {},
   "source": [
    "### Pipeline to execute the TDSE computation"
   ]
  },
  {
   "cell_type": "code",
   "execution_count": null,
   "metadata": {},
   "outputs": [],
   "source": [
    "inputs.init_time_and_field(DLL, E = E, t = tgrid) # set our electric field as the input\n",
    "DLL.init_GS(inputs)                               # create the C-types input for the C-library\n",
    "output = outputs_def()                            # prepare the structure that holds the TDSE outputs \n",
    "DLL.call1DTDSE(inputs, output)                    # run TDSE"
   ]
  },
  {
   "cell_type": "markdown",
   "metadata": {},
   "source": [
    "### Obtain detailed analyses and visualisation\n",
    "Here we specify some parameters for various analyses and plotting"
   ]
  },
  {
   "cell_type": "code",
   "execution_count": null,
   "metadata": {},
   "outputs": [],
   "source": [
    "# Parameters for analyses\n",
    "\n",
    "# Gabor\n",
    "omega_max_plot = 3.5 # [a.u.]\n",
    "Tmin_Gabor = 20.     # [a.u.]\n",
    "Tmax_Gabor = 380.    # [a.u.]\n",
    "\n",
    "\n",
    "# Energetic distribution\n",
    "E_min = -0.6    # [a.u.] - minimal energy in the analysis\n",
    "E_max = 5.      # [a.u.] - maximal energy in the analysis\n",
    "N_pts = 1500    # # of points in energy\n",
    "\n",
    "# Numerical parameters\n",
    "Nthreads = 10   # of threads for the parallel computation"
   ]
  },
  {
   "cell_type": "markdown",
   "metadata": {},
   "source": [
    "### Compute Gabor transform\n",
    "\n",
    "The Gabor transform is one of the analyses provided directly by the C-library. "
   ]
  },
  {
   "cell_type": "code",
   "execution_count": null,
   "metadata": {},
   "outputs": [],
   "source": [
    "grad_V = output.get_sourceterm()\n",
    "dt_Gabor = output.tgrid[1]-output.tgrid[0]\n",
    "T = output.tgrid[output.Nt-1]\n",
    "\n",
    "tgrid_Gabor, ogrid_Gabor, Gabor = DLL.gabor_transform(grad_V, dt_Gabor, output.Nt, omega_max_plot, Tmin_Gabor, Tmax_Gabor, 1000, a=8)"
   ]
  },
  {
   "cell_type": "markdown",
   "metadata": {},
   "source": [
    "### Compute invariant energy distribution & ionisation probability (using `multiprocessing` parallelisation)\n",
    "\n",
    "The computation of the invariant energy distribution is a computationally heavy task. It basically requires [to compute the photo-electron spectrum for each $t$](https://doi.org/10.1103/PhysRevA.106.053115https://doi.org/10.1103/PhysRevA.106.053115).\n",
    "\n",
    "We use the `multiprocessing` module to compute the result in parallel. We need also some preparational computations: to find the ensemble of the bound states that will be projected out from the distribution. Then we define the computational routine to be parallelised by the `starmap_async`."
   ]
  },
  {
   "cell_type": "code",
   "execution_count": null,
   "metadata": {},
   "outputs": [],
   "source": [
    "# compute bound states that will be projected out\n",
    "Energy_guess = [-0.5789, -0.2537, -0.1425, -0.0890, -0.0613, -0.0440, -0.0335, -0.0265, -0.0213, -0.0175, -0.0145, -0.0105, -0.0080, -0.0065, -0.0050, -0.0035]\n",
    "inputs_array = []\n",
    "GS = []\n",
    "for i, E in enumerate(Energy_guess):\n",
    "    inputs_array.append(inputs_def())\n",
    "    inputs_array[i].init_default_inputs(Eguess=E, num_r=inputs.num_r, trg_a=trg_a, dt = 0.25, CV = 1e-15) # CV = 1e-15, else the resolvent does not converge for higher bound states\n",
    "    DLL.init_GS(inputs_array[i]) \n",
    "    print(\"E_GS = {}\".format(inputs_array[i].Einit))\n",
    "    GS.append(inputs_array[i].get_GS())\n",
    "\n",
    "GS = np.array(GS)\n",
    "\n",
    "# Free the memory allocated by the temporary arrays for the energy computation\n",
    "for i, E, in enumerate(inputs_array):\n",
    "    inputs_array[i].delete(DLL)"
   ]
  },
  {
   "cell_type": "code",
   "execution_count": null,
   "metadata": {},
   "outputs": [],
   "source": [
    "# define the function used for the parallelised computaiton of the photoelectron spectrum\n",
    "\n",
    "t_psi, x_grid, wavefunction = output.get_wavefunction(inputs, grids=True)\n",
    "wfs = wavefunction[0:-1:1]\n",
    "\n",
    "\n",
    "def compute_PES_parallel(psi, GS, N_pts, E_min, E_max, jobID):\n",
    "    for psi_b in GS:\n",
    "        psi -= np.vdot(psi, psi_b)*psi_b # Remove the bound states using projection (note: np.vdot(a, b) == np.dot(np.conj(a), b) )\n",
    "\n",
    "    ### Compute photoelectron spectrum for range [E_min, E_max]\n",
    "    Energy = np.linspace(E_min, E_max, N_pts)\n",
    "    Estep = Energy[1]-Energy[0]\n",
    "    E_grid, PES = DLL.compute_PES(inputs, psi, num_E=len(Energy), Estep=Estep)\n",
    "\n",
    "    # print(\"Job {} done.\".format(jobID))\n",
    "    print(f'Job {jobID} done.    \\r', end=\"\")\n",
    "    \n",
    "    ### Store the result\n",
    "    return E_grid, PES"
   ]
  },
  {
   "cell_type": "code",
   "execution_count": null,
   "metadata": {},
   "outputs": [],
   "source": [
    "# compute the analysis in parallel\n",
    "from multiprocess import Pool\n",
    "p = Pool(Nthreads)\n",
    "\n",
    "map_ = [(wf, GS, N_pts, E_min, E_max, i+1) for i, wf in enumerate(wavefunction)]\n",
    "result = p.starmap_async(compute_PES_parallel, map_)    # run calculation in parallel\n",
    "\n",
    "PES = result.get()\n",
    "PES_array = [PES[i][1] for i in range(len(PES))]        # collect the results"
   ]
  },
  {
   "cell_type": "markdown",
   "metadata": {},
   "source": [
    "### Final plot of all data"
   ]
  },
  {
   "cell_type": "code",
   "execution_count": null,
   "metadata": {},
   "outputs": [],
   "source": [
    "# code to generate the following figure\n",
    "import matplotlib.colors as colors\n",
    "fig = plt.figure(figsize=(14, 10))\n",
    "\n",
    "# Define subplots using subplot2grid\n",
    "ax1 = plt.subplot2grid((3, 2), (0, 0))  # Upper left\n",
    "ax2 = plt.subplot2grid((3, 2), (0, 1))  # Upper right\n",
    "ax3 = plt.subplot2grid((3, 2), (1, 0))  # Middle left\n",
    "ax4 = plt.subplot2grid((3, 2), (1, 1))  # Middle right\n",
    "ax5 = plt.subplot2grid((3, 2), (2, 0))  # Lower left\n",
    "ax6 = plt.subplot2grid((3, 2), (2, 1))  # Lower right\n",
    "\n",
    "# Plot the electric field\n",
    "ax1.plot(output.get_tgrid(),output.get_Efield(),label='Electric field')\n",
    "ax1.set_xlabel(r'$t~[\\mathrm{a.u.}]$')\n",
    "ax1.set_ylabel(r'$\\mathcal{E}~[\\mathrm{a.u.}]$')\n",
    "# ax1.set_title('Eelctric field')\n",
    "ax1.legend()\n",
    "\n",
    "\n",
    "# Plot the harmonic spectrum (the dipole acceleration)\n",
    "ogrid = output.get_omegagrid()[:]\n",
    "ko_max = mn.FindInterval(ogrid,omega_max_plot)\n",
    "ax2.semilogy(mn.ConvertPhoton(ogrid[:ko_max],'omegaau','eV'), np.abs(output.get_Fsourceterm())[:ko_max],label='dipole acceleration spectrum')\n",
    "ax2.set_xlim(mn.ConvertPhoton(ogrid[:ko_max],'omegaau','eV')[[0,-1]])\n",
    "ax2.set_xlabel(r'$\\omega~[\\mathrm{eV}]$')\n",
    "ax2.set_ylabel(r'$|(\\partial \\hat{\\jmath}/\\partial t)(\\omega)|~[\\mathrm{arb.~u.}]$')\n",
    "ax2.legend()\n",
    "# plt.xlim(0,3.5)\n",
    "\n",
    "\n",
    "# Plot the wavefunction\n",
    "x_range = (np.abs(x_grid) < 250.1)\n",
    "pc3 = ax3.pcolormesh(t_psi, x_grid[x_range], np.transpose(np.abs(wavefunction))[x_range],\n",
    "                     cmap = 'jet',\n",
    "                     norm = colors.LogNorm(vmin=1e-8, vmax=0.5),\n",
    "                     shading = 'gouraud')\n",
    "ax3.set_xlabel(r'$t~[\\mathrm{a.u.}]$')\n",
    "ax3.set_ylabel(r'$x~[\\mathrm{a.u.}]$')\n",
    "cbar2 = fig.colorbar(pc3, ax=ax3) #, orientation='horizontal')\n",
    "cbar2.ax.set_ylabel(r'$|\\psi|$ [a.u.]', rotation=90)\n",
    "\n",
    "\n",
    "# Plot the Gabor transform\n",
    "pc4 = ax4.pcolormesh(tgrid_Gabor, mn.ConvertPhoton(ogrid_Gabor,'omegaau','eV'), Gabor,\n",
    "                     cmap = 'jet',\n",
    "                     # vmin = 1e-6,\n",
    "                     norm = colors.LogNorm(vmin=1e-6, vmax=1), # Normalize\n",
    "                     shading = 'gouraud')\n",
    "ax4.set_xlabel(r'$t~[\\mathrm{a.u.}]$')\n",
    "ax4.set_ylabel(r'Energy [eV]')\n",
    "cbar4 = fig.colorbar(pc4, ax=ax4) #, orientation='horizontal')\n",
    "cbar4.ax.set_ylabel(r'Gabor (spectrogram) [arb. u.]', rotation=90)\n",
    "\n",
    "\n",
    "# Plot the time-resolved photoelectron spectrum\n",
    "pc5 = ax5.pcolormesh(t_psi,\n",
    "                     mn.ConvertPhoton(np.linspace(E_min, E_max, N_pts),'omegaau','eV'),\n",
    "                     1e4*np.array(PES_array).transpose(),\n",
    "                     cmap = 'jet', #'bwr',\n",
    "                     # vmin = 1e-6,\n",
    "                     norm = colors.Normalize(vmin=1e4*1e-8, vmax=1e4*1e-4), # Normalize\n",
    "                     shading = 'gouraud')\n",
    "\n",
    "ax5.set_xlabel(r'$t~[\\mathrm{a.u.}]$')\n",
    "ax5.set_ylabel(r'Energy [eV]')\n",
    "cbar5 = fig.colorbar(pc5, ax=ax5) #, orientation='horizontal')\n",
    "cbar5.ax.set_ylabel(\"invariant electron's energy [arb. u.]\", rotation=90)\n",
    "\n",
    "\n",
    "# Plot ground state populations (volumetric and projective)\n",
    "ax6.plot(output.get_tgrid(),output.get_PopInt(),label=r'Volumetric GS population ($\\int_{V_{\\text{atom}}} |\\psi(t)|^2$)')\n",
    "ax6.plot(output.get_tgrid(),output.get_PopTot(),label=r'Invariant projected GS pop. ($|\\langle\\psi(t)|\\psi_0 \\rangle_{\\text{inv}}|^2$)')\n",
    "ax6.set_xlim(output.get_tgrid()[[0,-1]])\n",
    "ax6.set_xlabel(r'$t~[\\mathrm{a.u.}]$')\n",
    "ax6.set_ylabel(r'Probability [-]')\n",
    "ax6.legend()\n",
    "\n",
    "\n",
    "fig.tight_layout()\n",
    "plt.show()"
   ]
  }
 ],
 "metadata": {
  "kernelspec": {
   "display_name": "Python 3",
   "language": "python",
   "name": "python3"
  },
  "language_info": {
   "codemirror_mode": {
    "name": "ipython",
    "version": 3
   },
   "file_extension": ".py",
   "mimetype": "text/x-python",
   "name": "python",
   "nbconvert_exporter": "python",
   "pygments_lexer": "ipython3",
   "version": "3.10.12"
  }
 },
 "nbformat": 4,
 "nbformat_minor": 4
}
