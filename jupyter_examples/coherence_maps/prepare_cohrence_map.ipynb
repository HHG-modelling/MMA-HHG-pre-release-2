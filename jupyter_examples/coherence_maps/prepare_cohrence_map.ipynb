{
 "cells": [
  {
   "cell_type": "markdown",
   "metadata": {},
   "source": [
    "# Notebook for preparing the simulations for the coherence map"
   ]
  },
  {
   "cell_type": "markdown",
   "metadata": {},
   "source": [
    "We prepare two CUPRAD runs that will be used to construct the coherence maps to visualise the phase-matching conditions in the interaction volume. This example will use [pre-ionisation of the medium](https://www.nature.com/articles/s41598-022-11313-6) to reach the phase-matching conditions. "
   ]
  },
  {
   "cell_type": "markdown",
   "metadata": {},
   "source": [
    "## Load libraries"
   ]
  },
  {
   "cell_type": "code",
   "execution_count": null,
   "metadata": {},
   "outputs": [],
   "source": [
    "import numpy as np\n",
    "from scipy import integrate\n",
    "import matplotlib.pyplot as plt\n",
    "import os\n",
    "import shutil\n",
    "import h5py\n",
    "import sys\n",
    "import copy\n",
    "import MMA_administration as MMA\n",
    "import mynumerics as mn\n",
    "import units\n",
    "import HHG\n",
    "from IPython.display import display, Markdown\n",
    "\n",
    "\n",
    "%matplotlib inline\n",
    "# import mpld3\n",
    "# mpld3.enable_notebook()"
   ]
  },
  {
   "cell_type": "markdown",
   "metadata": {},
   "source": [
    "The directory where the input parameters are written:"
   ]
  },
  {
   "cell_type": "code",
   "execution_count": null,
   "metadata": {},
   "outputs": [],
   "source": [
    "h5path = os.path.join(os.environ['MULTISCALE_WORK_DIR'],'coherence_map','inputs')"
   ]
  },
  {
   "cell_type": "markdown",
   "metadata": {},
   "source": [
    "## Physical parameters\n",
    "We set the parameters for the simulation using the reference Gaussian beam (see [notebook 1](../gas_cell/prepare_cell.ipynb) and [notebook 2](../density_profile/prepare_density_profile.ipynb) for more details). We already specify the optimised harmonic order, wchich will be used to choose the degree of pre-ionisation. "
   ]
  },
  {
   "cell_type": "code",
   "execution_count": null,
   "metadata": {},
   "outputs": [],
   "source": [
    "Horder = 17"
   ]
  },
  {
   "cell_type": "markdown",
   "metadata": {},
   "source": [
    "### Medium parameters\n",
    "\n",
    "Additionally to the IR propgation, we need to provide the XUV tables to address the phase matching condition for the selected harmonic."
   ]
  },
  {
   "cell_type": "code",
   "execution_count": null,
   "metadata": {},
   "outputs": [],
   "source": [
    "# gas specifiers\n",
    "gas = 'Kr'\n",
    "medium_length = 15e-3 # [m]\n",
    "ionisation_model = 'PPT'\n",
    "XUV_dispersion_tables = 'NIST'\n",
    "medium_pressure = 25e-3 # bar\n",
    "\n",
    "# pre-ionisation degree relative to the optimal ionisation for the phase-matching (see https://www.nature.com/articles/s41598-022-11313-6)\n",
    "# (there will be some ionisation due to the laser)\n",
    "pre_ionisation_degree = 0.9 "
   ]
  },
  {
   "cell_type": "markdown",
   "metadata": {},
   "source": [
    "### Laser parameters\n",
    "\n",
    "The parmaters of [the reference Gaussian beam](../gas_cell/prepare_cell.ipynb) focused in the middle of the cell."
   ]
  },
  {
   "cell_type": "code",
   "execution_count": null,
   "metadata": {},
   "outputs": [],
   "source": [
    "reference_Gaussian_focus = medium_length/2. # [m]\n",
    "reference_Gaussian_waist = 100e-6 # [m]\n",
    "reference_Gaussian_focus_intensity = 1.3e18 # [W/m2]\n",
    "laser_wavelength = 800e-9 # [m]\n",
    "laser_pulse_duration = 45e-15 # [s] (defined via 1/e in the electric field amplitude)"
   ]
  },
  {
   "cell_type": "markdown",
   "metadata": {},
   "source": [
    "### Compute the optimal pre-ionisation degree\n",
    "The `HHG` module provides the routine for the optimal ionisation degree. It evaluates the phase matching condition $\\Delta k = qk_1 - k_q \\overset{!}{=}0$.\n",
    "\n"
   ]
  },
  {
   "cell_type": "code",
   "execution_count": null,
   "metadata": {},
   "outputs": [],
   "source": [
    "## compute the optimal ionisation degree\n",
    "import XUV_refractive_index as XUV_index\n",
    "import IR_refractive_index as IR_index\n",
    "omegaSI = mn.ConvertPhoton(laser_wavelength,'lambdaSI','omegaSI')\n",
    "eta_opt = HHG.eta_opt(omegaSI,\n",
    "                    XUV_index.polarisability(Horder * omegaSI, gas+'_'+XUV_dispersion_tables,),\n",
    "                    IR_index.polarisability(gas,laser_wavelength))"
   ]
  },
  {
   "cell_type": "markdown",
   "metadata": {},
   "source": [
    "### Numerical parameters"
   ]
  },
  {
   "cell_type": "code",
   "execution_count": null,
   "metadata": {},
   "outputs": [],
   "source": [
    "number_of_points_in_r      = 1024\n",
    "number_of_points_in_t      = 1024\n",
    "\n",
    "operators_t                = 2\n",
    "first_delta_z              = 0.01 # [mm]\n",
    "phase_threshold_for_decreasing_delta_z = 0.002\t# [rad]\n",
    "\n",
    "length_of_window_for_r_normalized_to_beamwaist = 4.   # [-]\n",
    "length_of_window_for_t_normalized_to_pulse_duration = 6. # [-]\n",
    "\n",
    "number_of_absorber_points_in_time = 16  # [-]\n",
    "\n",
    "physical_output_distance_for_plasma_and_Efield = 0.00001   # [m]\n",
    "\n",
    "output_distance_in_z_steps_for_fluence_and_power   = 100  # [-]\n",
    "\n",
    "radius_for_diagnostics = 0.1 # [cm]\n",
    "\n",
    "run_time_in_hours = 5.0 # [h] "
   ]
  },
  {
   "cell_type": "code",
   "execution_count": null,
   "metadata": {},
   "outputs": [],
   "source": [
    "## Code to generate the following text ##\n",
    "zR = (np.pi*reference_Gaussian_waist**2)/laser_wavelength\n",
    "dr_CUPRAD = length_of_window_for_r_normalized_to_beamwaist * reference_Gaussian_waist*np.sqrt(1+(reference_Gaussian_focus/zR)**2)/number_of_points_in_r\n",
    "display(Markdown(rf\"\"\"### Properties of the chosen discretisation\n",
    "* The chosen discretisation in time gives ~ {\n",
    "            number_of_points_in_t/(\n",
    "            laser_pulse_duration*length_of_window_for_t_normalized_to_pulse_duration/mn.ConvertPhoton(laser_wavelength,'lambdaSI','T0SI')\n",
    "            )\n",
    "    :.0f}\n",
    "points per one laser period.\n",
    "* The stepsize in the radial discretisation is ~ ${\n",
    "      1e6*dr_CUPRAD\n",
    "      :.2f}\n",
    "~\\mu {{\\mathrm{{m}}}}$.\n",
    "* The size of the radial computational box is ~ ${\n",
    "      1e6*length_of_window_for_r_normalized_to_beamwaist * reference_Gaussian_waist\n",
    "      :.2f}\n",
    "~\\mu {{\\mathrm{{m}}}}$. The maximal radius of the reference Gaussian beam is ~ ${\n",
    "      1e6*np.max([\n",
    "            reference_Gaussian_waist*np.sqrt(1+((medium_length-reference_Gaussian_focus)/zR)**2),\n",
    "            reference_Gaussian_waist*np.sqrt(1+(reference_Gaussian_focus/zR)**2)\n",
    "            ])\n",
    "      :.2f}\n",
    "~\\mu {{\\mathrm{{m}}}}$.$^\\dagger$\n",
    "* The Rayleigh length for the purely Gaussian beam is ${\n",
    "      1e3*zR\n",
    "      :.2f}\n",
    "~{{\\mathrm{{mm}}}}$ (the length of the cell is ${\n",
    "      1e3*medium_length\n",
    "      :.2f}\n",
    "~{{\\mathrm{{mm}}}}$).\n",
    "* There will be ~ {\n",
    "    medium_length/physical_output_distance_for_plasma_and_Efield\n",
    "    :.0f} output planes.\n",
    "\n",
    "$^\\dagger$ This is given at the $z$-edges of the computational box.\n",
    "\"\"\"))\n",
    "\n",
    "\n",
    "\n"
   ]
  },
  {
   "cell_type": "markdown",
   "metadata": {},
   "source": [
    "## Prepare the input files\n",
    "\n",
    "Finally, the inputs files are created. Additionally to [the standard operation](../gas_cell/prepare_cell.ipynb), we add the subgroup driving the pre-ionisation within the `global_inputs`."
   ]
  },
  {
   "cell_type": "code",
   "execution_count": null,
   "metadata": {},
   "outputs": [],
   "source": [
    "# Code to create the input hdf5-file\n",
    "## First, we prepare dictionaries between hdf5-inputs and this jupyter notebook\n",
    "\n",
    "\n",
    "pre_ion_path =  MMA.global_inputs_pre_ionised_subgroup\n",
    "global_input_names_to_jupyter_variables = {\n",
    "    'gas_preset'                                : (np.bytes_(gas),                        '[-]'   ),\n",
    "    'medium_pressure_in_bar'                    : (medium_pressure,                       '[bar]' ),\n",
    "\n",
    "    pre_ion_path + '/method_geometry'           : (1,                                        '[-]'),\n",
    "    pre_ion_path + '/method_units'              : (1,                                        '[-]'),\n",
    "    pre_ion_path + '/initial_electrons_ratio'   : (0.,                                       '[-]'),\n",
    "   \n",
    "}\n",
    "\n",
    "\n",
    "CUPRAD_names_to_jupyter_variables = {\n",
    "    # laser parameters\n",
    "    'laser_wavelength'                          : (1e2*laser_wavelength,                  '[cm]'  ),\n",
    "    'laser_pulse_duration_in_1_e_Efield'        : (1e15*laser_pulse_duration,             '[fs]' ),\n",
    "    'laser_focus_intensity_Gaussian'            : (reference_Gaussian_focus_intensity,    '[W/m2]'  ),\n",
    "    'laser_focus_beamwaist_Gaussian'            : (reference_Gaussian_waist,              '[m]'  ),\n",
    "    'laser_focus_position_Gaussian'             : (reference_Gaussian_focus,              '[m]'  ),\n",
    "\n",
    "    # medium parameters\n",
    "    'medium_physical_distance_of_propagation'   : (medium_length,                         '[m]'   ),\n",
    "\n",
    "    # ionisation\n",
    "    'ionization_model'                          : (np.bytes_(ionisation_model),          '[-]'  ),\n",
    "\n",
    "    # numerics\n",
    "    'numerics_number_of_points_in_r'            : (number_of_points_in_r,                 '[-]'  ),\n",
    "    'numerics_number_of_points_in_t'            : (number_of_points_in_t,                 '[-]'  ),\n",
    "    'numerics_operators_t_t-1'                  : (operators_t,                           '[-]'  ),\n",
    "    'numerics_physical_first_stepwidth'         : (first_delta_z,                         '[mm]' ),\n",
    "    'numerics_phase_threshold_for_decreasing_delta_z' : \n",
    "        (phase_threshold_for_decreasing_delta_z,                '[rad]' ),\n",
    "    'numerics_length_of_window_for_r_normalized_to_beamwaist':\n",
    "        (length_of_window_for_r_normalized_to_beamwaist,        '[-]'   ),\n",
    "    'numerics_length_of_window_for_t_normalized_to_pulse_duration' :\n",
    "        (length_of_window_for_t_normalized_to_pulse_duration,   '[-]'   ),\n",
    "    'numerics_number_of_absorber_points_in_time':\n",
    "        (number_of_absorber_points_in_time ,                    '[-]'   ),\n",
    "    'numerics_physical_output_distance_for_plasma_and_Efield' :\n",
    "        (physical_output_distance_for_plasma_and_Efield,        '[m]'   ),\n",
    "    'numerics_output_distance_in_z-steps_for_fluence_and_power' :\n",
    "        (output_distance_in_z_steps_for_fluence_and_power,      '[-]'   ),\n",
    "    'numerics_radius_for_diagnostics'           : (radius_for_diagnostics,                '[cm]' ),\n",
    "    'numerics_run_time_in_hours'                : (run_time_in_hours,                     '[s]'  )\n",
    "}\n",
    "\n",
    "\n",
    "# The inputs for the pre-ionised case are the same except the pre-ionisation \n",
    "global_input_names_to_jupyter_variables2 = copy.deepcopy(global_input_names_to_jupyter_variables)\n",
    "# set the pre-ionisation\n",
    "global_input_names_to_jupyter_variables2[pre_ion_path + '/initial_electrons_ratio'] = (pre_ionisation_degree*eta_opt, '[-]') \n",
    "\n",
    "\n",
    "## Create the hdf5-archive\n",
    "\n",
    "# clean the input directory if it existed\n",
    "if os.path.exists(h5path): shutil.rmtree(h5path) \n",
    "os.makedirs(h5path)\n",
    "\n",
    "h5filename = 'results_map1.h5'\n",
    "h5filepath = os.path.join(h5path,h5filename)\n",
    "\n",
    "h5filename2 = 'results_map2.h5'\n",
    "h5filepath2 = os.path.join(h5path,h5filename2)\n",
    "\n",
    "# create the files\n",
    "from inputs_transformer import add_variables2hdf5, variables2text\n",
    "with h5py.File(h5filepath,'w') as f1, h5py.File(h5filepath2,'w') as f2: \n",
    "\n",
    "    add_variables2hdf5(f1,\n",
    "                    global_input_names_to_jupyter_variables,\n",
    "                    CUPRAD_names_to_jupyter_variables,\n",
    "                    None,\n",
    "                    None,\n",
    "                    None,\n",
    "                    None)\n",
    "\n",
    "    add_variables2hdf5(f2,\n",
    "                    global_input_names_to_jupyter_variables2,\n",
    "                    CUPRAD_names_to_jupyter_variables,\n",
    "                    None,\n",
    "                    None,\n",
    "                    None,\n",
    "                    None)"
   ]
  }
 ],
 "metadata": {
  "kernelspec": {
   "display_name": "Python 3",
   "language": "python",
   "name": "python3"
  },
  "language_info": {
   "codemirror_mode": {
    "name": "ipython",
    "version": 3
   },
   "file_extension": ".py",
   "mimetype": "text/x-python",
   "name": "python",
   "nbconvert_exporter": "python",
   "pygments_lexer": "ipython3",
   "version": "3.10.12"
  }
 },
 "nbformat": 4,
 "nbformat_minor": 2
}
