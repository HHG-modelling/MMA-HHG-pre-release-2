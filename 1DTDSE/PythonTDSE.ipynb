{
 "cells": [
  {
   "cell_type": "markdown",
   "metadata": {},
   "source": [
    "# Notebook for running 1D-TDSE C code from Python\n",
    "Author: Tadeas Nemec, 2023"
   ]
  },
  {
   "cell_type": "markdown",
   "metadata": {},
   "source": [
    "### Load libraries and files"
   ]
  },
  {
   "cell_type": "code",
   "execution_count": null,
   "metadata": {},
   "outputs": [],
   "source": [
    "import numpy as np\n",
    "import matplotlib.pyplot as plt\n",
    "import os\n",
    "import sys\n",
    "\n",
    "sys.path.append('/mnt/d/git/CUPRAD_TDSE_Hankel/1DTDSE')\n",
    "### Main Python TDSE helper script, contains C structures, function wrappers etc.\n",
    "from PythonTDSE import *\n",
    "\n",
    "### Path to compiled dynamic C library\n",
    "# path_to_DLL = os.path.realpath(os.path.join(os.getcwd(), \"build/libsingleTDSE.so\"))\n",
    "path_to_DLL = '/mnt/d/git/CUPRAD_TDSE_Hankel/1DTDSE/build/libsingleTDSE.so'\n",
    "\n",
    "### TDSE DLL class declaration\n",
    "DLL = TDSE_DLL(path_to_DLL)"
   ]
  },
  {
   "cell_type": "markdown",
   "metadata": {},
   "source": [
    "### TDSE with custom field\n",
    "\n",
    "We instantiate a C-compatible ```inputs_def``` class that is in fact C types structure. This strucure (class) contains all the necessary variables for the C 1D-TDSE code. \n",
    "\n",
    "We show an example how to run the 1D-TDSE with custom numerical electric provided by the Python high level API."
   ]
  },
  {
   "cell_type": "code",
   "execution_count": null,
   "metadata": {},
   "outputs": [],
   "source": [
    "### Create instance of input structure\n",
    "inputs = inputs_def()\n",
    "\n",
    "### Initialize inputs, initialization functions are methods of inputs_def\n",
    "\n",
    "### First we need to set the default inputs (can be modified with kwargs)\n",
    "inputs.init_default_inputs()\n"
   ]
  },
  {
   "cell_type": "markdown",
   "metadata": {},
   "source": [
    "Initialize temporal grid and initial field. There are two ways how to do it. Either you specify the result file from the CUPRAD code and select a particular field, e.g.:\n",
    "```Python\n",
    "# HDF5 file name\n",
    "filename = \"results_CUPRAD.h5\"\n",
    "# Load data from the file name\n",
    "inputs.load_from_hdf5(filename)\n",
    "# Set indices of the CUPRAD field\n",
    "z_i = 75\n",
    "r_i = 512\n",
    "# Initialize field and time in the input\n",
    "inputs.init_time_and_field(DLL, filename, z_i, r_i)\n",
    "```\n",
    "or you provide custom electric field and time grids as follows"
   ]
  },
  {
   "cell_type": "code",
   "execution_count": null,
   "metadata": {},
   "outputs": [],
   "source": [
    "### Fundamental frequency\n",
    "omega_0 = 0.057\n",
    "### Period\n",
    "T = 2*np.pi/omega_0\n",
    "### Pulse length\n",
    "T_max = 5*T\n",
    "### Number of time points\n",
    "N_t = int(T_max/inputs.dt) + 1\n",
    "### Temporal grid\n",
    "t = np.linspace(0, T_max, N_t)\n",
    "### Sine squared envelope\n",
    "sin_2 = lambda t: np.sin(np.pi*t/T_max)**2\n",
    "### Chirp\n",
    "chirp = 1e-5*t**2\n",
    "### Field magnitude\n",
    "E_0 = 0.05\n",
    "### Field\n",
    "E = E_0*sin_2(t)*np.cos(omega_0*t + chirp)\n",
    "\n",
    "assert(len(E) == len(t))\n",
    "print(\"Size of the field and time grids: \", N_t)"
   ]
  },
  {
   "cell_type": "markdown",
   "metadata": {},
   "source": [
    "Initialize time and field into the `inputs` object"
   ]
  },
  {
   "cell_type": "code",
   "execution_count": null,
   "metadata": {},
   "outputs": [],
   "source": [
    "inputs.init_time_and_field(DLL, E = E, t = t)"
   ]
  },
  {
   "cell_type": "markdown",
   "metadata": {},
   "source": [
    "We can visualize and check the fields by plotting.\n",
    "\n",
    "We use the methods ```get_tgrid()``` and ```get_Efield()``` to obtain numpy arrays with the corresponding data, if saved in the structure. "
   ]
  },
  {
   "cell_type": "code",
   "execution_count": null,
   "metadata": {},
   "outputs": [],
   "source": [
    "plot(inputs.get_tgrid(), inputs.get_Efield(), y_label=r\"$E(t)$ [a.u.]\", x_label=r\"$t$ [a.u.]\")"
   ]
  },
  {
   "cell_type": "markdown",
   "metadata": {},
   "source": [
    "Compute the GS"
   ]
  },
  {
   "cell_type": "code",
   "execution_count": null,
   "metadata": {},
   "outputs": [],
   "source": [
    "DLL.init_GS(inputs)"
   ]
  },
  {
   "cell_type": "markdown",
   "metadata": {},
   "source": [
    "and we can check the GS by plotting it"
   ]
  },
  {
   "cell_type": "code",
   "execution_count": null,
   "metadata": {},
   "outputs": [],
   "source": [
    "psi0 = inputs.get_GS()\n",
    "x = inputs.get_xgrid()\n",
    "\n",
    "plot(x, np.abs(psi0), plot_scale=\"log\", x_label=r\"$x$ [a.u.]\", y_label = r\"|$\\psi_0(x)|$  [a.u.]\", linewidth = 1.)"
   ]
  },
  {
   "cell_type": "markdown",
   "metadata": {},
   "source": [
    "Propagate the wavefunction according to the field and store the results into the `outputs_def` structure. This part takes the most amount of computational time and it depends on the predetermined accuracy."
   ]
  },
  {
   "cell_type": "code",
   "execution_count": null,
   "metadata": {},
   "outputs": [],
   "source": [
    "output = outputs_def()\n",
    "### Call 1D TDSE from the inputs\n",
    "DLL.call1DTDSE(inputs, output)"
   ]
  },
  {
   "cell_type": "markdown",
   "metadata": {},
   "source": [
    "We may now plot the result of the computation. We can try plotting the averaged electron current derivative, $\\partial_t \\left<j(t)\\right> = \\left<\\nabla V \\right>(t) + E(t)$ along with the driving field during the propagation."
   ]
  },
  {
   "cell_type": "code",
   "execution_count": null,
   "metadata": {},
   "outputs": [],
   "source": [
    "t = output.get_tgrid()\n",
    "sourceterm = output.get_sourceterm()\n",
    "E = output.get_Efield()\n",
    "fig = plt.figure()\n",
    "fig.dpi = 300\n",
    "plt.plot(t, sourceterm, label = r\"$<\\nabla V(t)> + E(t)$\", linewidth = 1)\n",
    "plt.plot(t, E, label = r\"$E(t)$\", linewidth = 1, linestyle = \":\")\n",
    "plt.legend()\n",
    "plt.show()"
   ]
  },
  {
   "cell_type": "markdown",
   "metadata": {},
   "source": [
    "Compare the spectrum of the source term computed in CTDSE using FFTW with Numpy FFT. The FFT is normalized by a factor $dt/\\sqrt{2 \\pi}$."
   ]
  },
  {
   "cell_type": "code",
   "execution_count": null,
   "metadata": {},
   "outputs": [],
   "source": [
    "norm = (t[1]-t[0])/np.sqrt(2*np.pi)\n",
    "omegas = output.get_omegagrid()[0:200]/omega_0\n",
    "\n",
    "fig = plt.figure()\n",
    "fig.dpi = 300\n",
    "plt.semilogy(omegas, norm*np.abs(np.fft.fft(sourceterm))[0:200])\n",
    "plt.semilogy(omegas, np.abs(output.get_Fsourceterm())[0:200], linestyle = \":\")\n",
    "\n",
    "plt.show()"
   ]
  },
  {
   "cell_type": "markdown",
   "metadata": {},
   "source": [
    "### Free memory\n",
    "\n",
    "The structures arrays should be freed after the termination of the Python kernel. We can free the memory using ```delete(DLL)``` methods of ```inputs_def``` and ```outputs_def``` structures.\n",
    "\n",
    "We must provide the DLL class for the C wrapper."
   ]
  },
  {
   "cell_type": "code",
   "execution_count": null,
   "metadata": {},
   "outputs": [],
   "source": [
    "inputs.delete(DLL)\n",
    "output.delete(DLL)"
   ]
  },
  {
   "cell_type": "markdown",
   "metadata": {},
   "source": [
    "## Plot wavefunction in $t$\n",
    "\n",
    "In this example we show how to store the wavefunction and what can be done with it."
   ]
  },
  {
   "cell_type": "code",
   "execution_count": null,
   "metadata": {},
   "outputs": [],
   "source": [
    "### Create instance of input structure\n",
    "inputs = inputs_def()\n",
    "\n",
    "### Initialize inputs, initialization functions are methods of inputs_def\n",
    "\n",
    "### First we need to set the default inputs (can be modified with kwargs)\n",
    "inputs.init_default_inputs()"
   ]
  },
  {
   "cell_type": "markdown",
   "metadata": {},
   "source": [
    "Set writing and the timestep for wavefunction writing"
   ]
  },
  {
   "cell_type": "code",
   "execution_count": null,
   "metadata": {},
   "outputs": [],
   "source": [
    "### Set writing true\n",
    "inputs.analy.writewft = c_int(1)\n",
    "### Set wavefunction writing each 10 au in time\n",
    "inputs.analy.tprint = c_double(10.)"
   ]
  },
  {
   "cell_type": "code",
   "execution_count": null,
   "metadata": {},
   "outputs": [],
   "source": [
    "### Fundamental frequency\n",
    "omega_0 = 0.057\n",
    "### Period\n",
    "T = 2*np.pi/omega_0\n",
    "### Pulse length\n",
    "T_max = 5*T\n",
    "### Number of time points\n",
    "N_t = int(T_max/inputs.dt) + 1\n",
    "### Temporal grid\n",
    "t = np.linspace(0, T_max, N_t)\n",
    "### Sine squared envelope\n",
    "sin_2 = lambda t: np.sin(np.pi*t/T_max)**2\n",
    "### Chirp\n",
    "chirp = 1e-5*t**2\n",
    "### Field magnitude\n",
    "E_0 = 0.05\n",
    "### Field\n",
    "E = E_0*sin_2(t)*np.cos(omega_0*t + chirp)\n",
    "\n",
    "assert(len(E) == len(t))\n",
    "print(\"Size of the field and time grids: \", N_t)"
   ]
  },
  {
   "cell_type": "code",
   "execution_count": null,
   "metadata": {},
   "outputs": [],
   "source": [
    "plot(t, E, y_label=r\"$E(t)$ [a.u.]\", x_label=r\"$t$ [a.u.]\")"
   ]
  },
  {
   "cell_type": "code",
   "execution_count": null,
   "metadata": {},
   "outputs": [],
   "source": [
    "inputs.init_time_and_field(DLL, E = E, t = t)\n",
    "DLL.init_GS(inputs)"
   ]
  },
  {
   "cell_type": "markdown",
   "metadata": {},
   "source": [
    "Call 1DTDSE and write the wavefunction"
   ]
  },
  {
   "cell_type": "code",
   "execution_count": null,
   "metadata": {},
   "outputs": [],
   "source": [
    "output = outputs_def()\n",
    "### Call 1D TDSE from the inputs\n",
    "DLL.call1DTDSE(inputs, output)"
   ]
  },
  {
   "cell_type": "markdown",
   "metadata": {},
   "source": [
    "Load the wavefunction using the `get_wavefunction` method which returns a complex NDarray with the wavefunction and corresponding grids. The `inputs_def` object is a required argument."
   ]
  },
  {
   "cell_type": "code",
   "execution_count": null,
   "metadata": {},
   "outputs": [],
   "source": [
    "### Load numpy array from the wavefunction, given the number of wavefunctions\n",
    "### and given the size of the array for 1 wavefunction\n",
    "tgrid, x, wavefunction = output.get_wavefunction(inputs)\n",
    "print(\"Wavefunction size: \", wavefunction.shape)"
   ]
  },
  {
   "cell_type": "markdown",
   "metadata": {},
   "source": [
    "Select plotting range along $x$-axis:"
   ]
  },
  {
   "cell_type": "code",
   "execution_count": null,
   "metadata": {},
   "outputs": [],
   "source": [
    "x_range = (np.abs(x) < 1000.1)"
   ]
  },
  {
   "cell_type": "markdown",
   "metadata": {},
   "source": [
    "Plot colormap of the wavefunction evolution (absolute value of $\\psi$)."
   ]
  },
  {
   "cell_type": "code",
   "execution_count": null,
   "metadata": {},
   "outputs": [],
   "source": [
    "plot_colormap(x[x_range], tgrid, np.transpose(np.abs(wavefunction))[x_range], x_label=r\"$t$ [a.u.]\", y_label=r\"$x$ [a.u.]\", plot_scale=\"log\", z_max=0.5)"
   ]
  },
  {
   "cell_type": "markdown",
   "metadata": {},
   "source": [
    "Plot final wavefunction $\\psi(t = T)$"
   ]
  },
  {
   "cell_type": "code",
   "execution_count": null,
   "metadata": {},
   "outputs": [],
   "source": [
    "psi = wavefunction[-1]\n",
    "plot(x, np.abs(psi), plot_scale=\"log\", x_label=r\"$x$ [a.u.]\", y_label=r\"$|\\psi(t = T)|$ [a.u.]\", linewidth = 1.)\n"
   ]
  },
  {
   "cell_type": "markdown",
   "metadata": {},
   "source": [
    "### Computing photoelectron spectrum (PES) for the final $\\psi$"
   ]
  },
  {
   "cell_type": "markdown",
   "metadata": {},
   "source": [
    "Save the final wavefunction pointer"
   ]
  },
  {
   "cell_type": "code",
   "execution_count": null,
   "metadata": {},
   "outputs": [],
   "source": [
    "### Setting final wavefunction for the PES computation\n",
    "#psi_final = output.psi[len(wavefunction)-1]\n",
    "psi_final = wavefunction[-1].copy()"
   ]
  },
  {
   "cell_type": "markdown",
   "metadata": {},
   "source": [
    "Compute PSE using the wrapper function, provided input structure and $\\psi(t = T)$."
   ]
  },
  {
   "cell_type": "code",
   "execution_count": null,
   "metadata": {},
   "outputs": [],
   "source": [
    "E, PSE = DLL.compute_PES(inputs, psi_final)"
   ]
  },
  {
   "cell_type": "markdown",
   "metadata": {},
   "source": [
    "Plotting PES"
   ]
  },
  {
   "cell_type": "code",
   "execution_count": null,
   "metadata": {},
   "outputs": [],
   "source": [
    "### Set range for plotting PES below 1 a.u. of energy\n",
    "E_range = (E < 1.)\n",
    "\n",
    "### Do the plot\n",
    "plot((E[E_range]), PSE[E_range], y_label=\"Probability\", x_label=r\"$E$ [a.u.]\", plot_scale=\"log\", linewidth = 1.)"
   ]
  },
  {
   "cell_type": "markdown",
   "metadata": {},
   "source": [
    "Free wavefunction in the outputs."
   ]
  },
  {
   "cell_type": "code",
   "execution_count": null,
   "metadata": {},
   "outputs": [],
   "source": [
    "DLL.free_mtrx(output.psi, len(wavefunction))"
   ]
  },
  {
   "cell_type": "markdown",
   "metadata": {},
   "source": [
    "### Print Gabor transform of $<\\nabla V>$"
   ]
  },
  {
   "cell_type": "code",
   "execution_count": null,
   "metadata": {},
   "outputs": [],
   "source": [
    "grad_V = output.get_sourceterm()\n",
    "dt = output.tgrid[1]-output.tgrid[0]\n",
    "Nt = output.Nt\n",
    "omega_0 = 0.057\n",
    "omega_max = omega_0*35\n",
    "T = output.tgrid[Nt-1]"
   ]
  },
  {
   "cell_type": "code",
   "execution_count": null,
   "metadata": {},
   "outputs": [],
   "source": [
    "t, omegas, gabor = DLL.gabor_transform(grad_V, dt, Nt, omega_max, 100., 400, 1000, a=8)"
   ]
  },
  {
   "cell_type": "code",
   "execution_count": null,
   "metadata": {},
   "outputs": [],
   "source": [
    "plot_colormap(omegas/omega_0, t, gabor, z_min=1e-8, figsize=(5, 3), x_label=r\"$t$ [a.u.]\", y_label=r\"H [-]\")"
   ]
  },
  {
   "cell_type": "markdown",
   "metadata": {},
   "source": [
    "Free memory"
   ]
  },
  {
   "cell_type": "code",
   "execution_count": null,
   "metadata": {},
   "outputs": [],
   "source": [
    "inputs.delete(DLL)\n",
    "output.delete(DLL)"
   ]
  },
  {
   "cell_type": "markdown",
   "metadata": {},
   "source": [
    "## Save output and input to HDF5"
   ]
  },
  {
   "cell_type": "code",
   "execution_count": null,
   "metadata": {},
   "outputs": [],
   "source": [
    "### Create instance of input structure\n",
    "inputs = inputs_def()\n",
    "\n",
    "### First we need to set the default inputs (can be modified with kwargs)\n",
    "inputs.init_default_inputs()"
   ]
  },
  {
   "cell_type": "code",
   "execution_count": null,
   "metadata": {},
   "outputs": [],
   "source": [
    "### Set writing true\n",
    "inputs.analy.writewft = c_int(1)\n",
    "### Set wavefunction writing each 10 au in time\n",
    "inputs.analy.tprint = c_double(10.)"
   ]
  },
  {
   "cell_type": "code",
   "execution_count": null,
   "metadata": {},
   "outputs": [],
   "source": [
    "### Fundamental frequency\n",
    "omega_0 = 0.057\n",
    "### Period\n",
    "T = 2*np.pi/omega_0\n",
    "### Pulse length\n",
    "T_max = 5*T\n",
    "### Number of time points\n",
    "N_t = int(T_max/inputs.dt) + 1\n",
    "### Temporal grid\n",
    "t = np.linspace(0, T_max, N_t)\n",
    "### Sine squared envelope\n",
    "sin_2 = lambda t: np.sin(np.pi*t/T_max)**2\n",
    "### Chirp\n",
    "chirp = 1e-5*t**2\n",
    "### Field magnitude\n",
    "E_0 = 0.05\n",
    "### Field\n",
    "E = E_0*sin_2(t)*np.cos(omega_0*t + chirp)\n",
    "\n",
    "assert(len(E) == len(t))\n",
    "print(\"Size of the field and time grids: \", N_t)"
   ]
  },
  {
   "cell_type": "code",
   "execution_count": null,
   "metadata": {},
   "outputs": [],
   "source": [
    "plot(t, E, y_label=r\"$E(t)$ [a.u.]\", x_label=r\"$t$ [a.u.]\")"
   ]
  },
  {
   "cell_type": "code",
   "execution_count": null,
   "metadata": {},
   "outputs": [],
   "source": [
    "inputs.init_time_and_field(DLL, E = E, t = t)\n",
    "DLL.init_GS(inputs)"
   ]
  },
  {
   "cell_type": "markdown",
   "metadata": {},
   "source": [
    "Save the inputs"
   ]
  },
  {
   "cell_type": "code",
   "execution_count": null,
   "metadata": {},
   "outputs": [],
   "source": [
    "inputs.save_to_hdf5(\"test.h5\")"
   ]
  },
  {
   "cell_type": "markdown",
   "metadata": {},
   "source": [
    "Compute CTDSE"
   ]
  },
  {
   "cell_type": "code",
   "execution_count": null,
   "metadata": {},
   "outputs": [],
   "source": [
    "output = outputs_def()\n",
    "### Call 1D TDSE from the inputs\n",
    "DLL.call1DTDSE(inputs, output)"
   ]
  },
  {
   "cell_type": "markdown",
   "metadata": {},
   "source": [
    "Save the outputs. If kwarg ```inputs = inputs```, then it writes the wavefunction into the HDF5 file, if available by ```write_wft = 1```. The wavefunction is saved within the HDF5 file as 2 datasets: real and imaginary part of the wavefunction for the predefined discretization in time. "
   ]
  },
  {
   "cell_type": "code",
   "execution_count": null,
   "metadata": {},
   "outputs": [],
   "source": [
    "output.save_to_hdf5(\"test.h5\", inputs=inputs)"
   ]
  },
  {
   "cell_type": "markdown",
   "metadata": {},
   "source": [
    "Delete wavefunction"
   ]
  },
  {
   "cell_type": "code",
   "execution_count": null,
   "metadata": {},
   "outputs": [],
   "source": [
    "wavefunction = output.get_wavefunction(inputs, grids=False)\n",
    "DLL.free_mtrx(output.psi, len(wavefunction))"
   ]
  },
  {
   "cell_type": "markdown",
   "metadata": {},
   "source": [
    "Delete memory"
   ]
  },
  {
   "cell_type": "code",
   "execution_count": null,
   "metadata": {},
   "outputs": [],
   "source": [
    "inputs.delete(DLL)\n",
    "output.delete(DLL)"
   ]
  },
  {
   "cell_type": "markdown",
   "metadata": {},
   "source": [
    "We can load back the input from the HDF5 file for new computations using the ```load_from_hdf5()``` method."
   ]
  },
  {
   "cell_type": "code",
   "execution_count": null,
   "metadata": {},
   "outputs": [],
   "source": [
    "inputs = inputs_def()\n",
    "inputs.load_from_hdf5(\"test.h5\")"
   ]
  },
  {
   "cell_type": "markdown",
   "metadata": {},
   "source": [
    "Check if loaded correctly"
   ]
  },
  {
   "cell_type": "code",
   "execution_count": null,
   "metadata": {},
   "outputs": [],
   "source": [
    "plot(inputs.get_xgrid(), np.abs(inputs.get_GS()), plot_scale = \"log\", linewidth = 1., x_label=r\"$x$ [a.u.]\", y_label=r\"$|\\psi_0|$ [a.u.]\")\n",
    "plot(inputs.get_tgrid(), inputs.get_Efield(), linewidth = 1., x_label=r\"$t$ [a.u.]\", y_label=r\"$E(t)$ [a.u.]\")"
   ]
  },
  {
   "cell_type": "markdown",
   "metadata": {},
   "source": [
    "Propagate the loaded inputs"
   ]
  },
  {
   "cell_type": "code",
   "execution_count": null,
   "metadata": {},
   "outputs": [],
   "source": [
    "output = outputs_def()\n",
    "### Call 1D TDSE from the inputs\n",
    "DLL.call1DTDSE(inputs, output)"
   ]
  },
  {
   "cell_type": "markdown",
   "metadata": {},
   "source": [
    "Plot data"
   ]
  },
  {
   "cell_type": "code",
   "execution_count": null,
   "metadata": {},
   "outputs": [],
   "source": [
    "plot(output.get_tgrid(), output.get_sourceterm(), x_label=r\"$t$ [a.u.]\", y_label=r\"$<\\nabla V> + E$ [a.u.]\")"
   ]
  },
  {
   "cell_type": "markdown",
   "metadata": {},
   "source": [
    "Delete data"
   ]
  },
  {
   "cell_type": "code",
   "execution_count": null,
   "metadata": {},
   "outputs": [],
   "source": [
    "DLL.free_mtrx(output.psi, len(wavefunction))\n",
    "inputs.delete(DLL)\n",
    "output.delete(DLL)"
   ]
  },
  {
   "cell_type": "markdown",
   "metadata": {},
   "source": [
    "## Time-dependent probability density resolved in energy using ROM\n",
    "\n",
    "Recomputing the case from the article [\"Ionization dynamics and gauge invariance\" by Vábek, J., Bachau, H and Catoire, F.](https://doi.org/10.1103/PhysRevA.106.053115)."
   ]
  },
  {
   "cell_type": "code",
   "execution_count": null,
   "metadata": {},
   "outputs": [],
   "source": [
    "### Create instance of input structure\n",
    "inputs = inputs_def()\n",
    "\n",
    "inputs.init_default_inputs(trg_a=1.1893, dt = 0.25, CV=1e-15)"
   ]
  },
  {
   "cell_type": "code",
   "execution_count": null,
   "metadata": {},
   "outputs": [],
   "source": [
    "### Field amplitude\n",
    "E_0 = 0.14\n",
    "### Fundamental frequency\n",
    "omega_0 = 0.07\n",
    "### Number of cycles\n",
    "Nc = 4\n",
    "### Period\n",
    "T = 2*np.pi/omega_0\n",
    "### Pulse length\n",
    "T_max = Nc*T\n",
    "### Number of time points\n",
    "N_t = int(T_max/inputs.dt) + 1\n",
    "### Temporal grid\n",
    "t = np.linspace(0, T_max, N_t)\n",
    "### Sine squared envelope\n",
    "sin_2 = lambda t: np.sin(np.pi*t/T_max)**2\n",
    "\n",
    "### Field\n",
    "Efield = E_0*sin_2(t)*np.cos(omega_0*t)\n",
    "\n",
    "plot(t, Efield, y_label=r\"$E(t)$ [a.u.]\", x_label=r\"$t$ [a.u.]\")"
   ]
  },
  {
   "cell_type": "code",
   "execution_count": null,
   "metadata": {},
   "outputs": [],
   "source": [
    "inputs.init_time_and_field(DLL, E = Efield, t = t)\n",
    "DLL.init_GS(inputs)"
   ]
  },
  {
   "cell_type": "markdown",
   "metadata": {},
   "source": [
    "Compute first 16 ground states of Argon"
   ]
  },
  {
   "cell_type": "code",
   "execution_count": null,
   "metadata": {},
   "outputs": [],
   "source": [
    "Energy_guess = [-0.5789, -0.2537, -0.1425, -0.0890, -0.0613, -0.0440, -0.0335, -0.0265, -0.0213, -0.0175, -0.0145, -0.0105, -0.0080, -0.0065, -0.0050, -0.0035]\n",
    "inputs_array = []\n",
    "GS = []\n",
    "for i, E in enumerate(Energy_guess):\n",
    "    inputs_array.append(inputs_def())\n",
    "    ### Remark that CV = 1e-15, else the resolvent does not converge for higher bound states\n",
    "    inputs_array[i].init_default_inputs(Eguess=E, num_r=inputs.num_r, trg_a=1.1893, dt = 0.25, CV = 1e-15)\n",
    "    DLL.init_GS(inputs_array[i]) \n",
    "    print(\"E_GS = {}\".format(inputs_array[i].Einit))\n",
    "    GS.append(inputs_array[i].get_GS())\n",
    "\n",
    "GS = np.array(GS)\n",
    "\n",
    "### Delete the inputs array\n",
    "for i, E, in enumerate(inputs_array):\n",
    "    inputs_array[i].delete(DLL)"
   ]
  },
  {
   "cell_type": "markdown",
   "metadata": {},
   "source": [
    "Print bound states shape"
   ]
  },
  {
   "cell_type": "code",
   "execution_count": null,
   "metadata": {},
   "outputs": [],
   "source": [
    "GS.shape"
   ]
  },
  {
   "cell_type": "markdown",
   "metadata": {},
   "source": [
    "Set writing wavefunction every $dt = 1.$"
   ]
  },
  {
   "cell_type": "code",
   "execution_count": null,
   "metadata": {},
   "outputs": [],
   "source": [
    "### Set writing true\n",
    "inputs.analy.writewft = c_int(1)\n",
    "### Set wavefunction writing each 10 au in time\n",
    "inputs.analy.tprint = c_double(1.)"
   ]
  },
  {
   "cell_type": "markdown",
   "metadata": {},
   "source": [
    "Compute the output"
   ]
  },
  {
   "cell_type": "code",
   "execution_count": null,
   "metadata": {},
   "outputs": [],
   "source": [
    "output = outputs_def()\n",
    "### Call 1D TDSE from the inputs\n",
    "DLL.call1DTDSE(inputs, output)"
   ]
  },
  {
   "cell_type": "markdown",
   "metadata": {},
   "source": [
    "Save inputs and outputs to HDF5, keep the wavefunction"
   ]
  },
  {
   "cell_type": "code",
   "execution_count": null,
   "metadata": {},
   "outputs": [],
   "source": [
    "inputs.save_to_hdf5(\"ionization.h5\")\n",
    "output.save_to_hdf5(\"ionization.h5\", inputs=inputs)\n",
    "t_psi, x_grid, wavefunction = output.get_wavefunction(inputs, grids=True)"
   ]
  },
  {
   "cell_type": "markdown",
   "metadata": {},
   "source": [
    "Now the bound states are removed from $\\psi$ in each timestep and the photoelectron spectrum is computed using the resolvent operator method."
   ]
  },
  {
   "cell_type": "code",
   "execution_count": null,
   "metadata": {},
   "outputs": [],
   "source": [
    "### Final photoelectron spectrum array\n",
    "PES_array = []\n",
    "\n",
    "wfs = wavefunction[0:-1:1]\n",
    "### Iterate over all stored wavefunctions\n",
    "for i, psi in enumerate(wfs):\n",
    "    print(\"Processing {} out of {}.\".format(i+1, len(wfs)))\n",
    "    for psi_b in GS:\n",
    "        ### Remove the bound states using projection (note: np.vdot(a, b) == np.dot(np.conj(a), b) )\n",
    "        psi -= np.vdot(psi, psi_b)*psi_b\n",
    "\n",
    "    ### Convert psi into a C-comprehensible array - flatten first, alternate real \n",
    "    # and imaginary parts, then return pointer to array\n",
    "    psi = np.array([psi.real, psi.imag]).transpose().flatten()\n",
    "    psi_ptr = ctypes_arr_ptr(c_double, len(psi), psi)\n",
    "\n",
    "    ### Compute photoelectron spectrum for range (-0.6) to (7) a.u. of energy\n",
    "    Energy = np.linspace(-0.6, 7, 2000)\n",
    "    Estep = Energy[1]-Energy[0]\n",
    "    E_grid, PES = DLL.compute_PES(inputs, psi_ptr, num_E=len(Energy), Estep=Estep)\n",
    "\n",
    "    ### Store the result\n",
    "    PES_array.append(PES)\n"
   ]
  },
  {
   "cell_type": "code",
   "execution_count": null,
   "metadata": {},
   "outputs": [],
   "source": [
    "plot_colormap(Energy, t_psi[0:-1:1], np.array(PES_array).transpose(), plot_scale=\"linear\", \n",
    "              z_max = 1e-3, figsize=(4, 3), y_label=\"Energy [a.u.]\", x_label=\"Time [a.u.]\", cmap=\"bwr\")"
   ]
  },
  {
   "cell_type": "markdown",
   "metadata": {},
   "source": [
    "Parallel evaluation of PES using `multiprocess` package."
   ]
  },
  {
   "cell_type": "code",
   "execution_count": null,
   "metadata": {},
   "outputs": [],
   "source": [
    "from multiprocess import Pool"
   ]
  },
  {
   "cell_type": "code",
   "execution_count": null,
   "metadata": {},
   "outputs": [],
   "source": [
    "def compute_PES_parallel(psi, GS, N_pts, E_min, E_max, jobID):\n",
    "    for psi_b in GS:\n",
    "        ### Remove the bound states using projection (note: np.vdot(a, b) == np.dot(np.conj(a), b) )\n",
    "        psi -= np.vdot(psi, psi_b)*psi_b\n",
    "\n",
    "    ### Convert psi into a C-comprehensible array - flatten first, alternate real \n",
    "    # and imaginary parts, then return pointer to array\n",
    "    #psi = np.array([psi.real, psi.imag]).transpose().flatten()\n",
    "    #psi_ptr = ctypes_arr_ptr(c_double, len(psi), psi)\n",
    "\n",
    "    ### Compute photoelectron spectrum for range (-0.6) to (7) a.u. of energy\n",
    "    Energy = np.linspace(E_min, E_max, N_pts)\n",
    "    Estep = Energy[1]-Energy[0]\n",
    "    #E_grid, PES = DLL.compute_PES(inputs, psi_ptr, num_E=len(Energy), Estep=Estep)\n",
    "    E_grid, PES = DLL.compute_PES(inputs, psi, num_E=len(Energy), Estep=Estep)\n",
    "\n",
    "    print(\"Job {} done.\".format(jobID))\n",
    "    ### Store the result\n",
    "    return E_grid, PES"
   ]
  },
  {
   "cell_type": "code",
   "execution_count": null,
   "metadata": {},
   "outputs": [],
   "source": [
    "### 10 parallel processes\n",
    "p = Pool(10)\n",
    "\n",
    "N_pts = 4000\n",
    "E_min = -0.6\n",
    "E_max = 7.\n",
    "map_ = [(wf, GS, N_pts, E_min, E_max, i+1) for i, wf in enumerate(wavefunction)]\n",
    "result = p.starmap_async(compute_PES_parallel, map_)\n",
    "\n",
    "PES = result.get()"
   ]
  },
  {
   "cell_type": "code",
   "execution_count": null,
   "metadata": {},
   "outputs": [],
   "source": [
    "PES_array = [PES[i][1] for i in range(len(PES))]"
   ]
  },
  {
   "cell_type": "code",
   "execution_count": null,
   "metadata": {},
   "outputs": [],
   "source": [
    "plot_colormap(np.linspace(E_min, E_max, N_pts), t_psi, np.array(PES_array).transpose(), plot_scale=\"linear\", \n",
    "              z_max = 1e-4, figsize=(4, 3), y_label=\"Energy [a.u.]\", x_label=\"Time [a.u.]\", cmap=\"bwr\", z_min=1e-8)"
   ]
  },
  {
   "cell_type": "markdown",
   "metadata": {},
   "source": [
    "Free memory"
   ]
  },
  {
   "cell_type": "code",
   "execution_count": null,
   "metadata": {},
   "outputs": [],
   "source": [
    "### Free memory\n",
    "DLL.free_mtrx(output.psi, len(wavefunction))"
   ]
  },
  {
   "cell_type": "code",
   "execution_count": null,
   "metadata": {},
   "outputs": [],
   "source": [
    "inputs.delete(DLL)\n",
    "output.delete(DLL)"
   ]
  },
  {
   "cell_type": "code",
   "execution_count": null,
   "metadata": {},
   "outputs": [],
   "source": [
    "plot(inputs.get_xgrid(), np.abs(wavefunction[-1]), plot_scale=\"log\", linewidth=1)"
   ]
  },
  {
   "cell_type": "code",
   "execution_count": null,
   "metadata": {},
   "outputs": [],
   "source": []
  }
 ],
 "metadata": {
  "kernelspec": {
   "display_name": "base",
   "language": "python",
   "name": "python3"
  },
  "language_info": {
   "codemirror_mode": {
    "name": "ipython",
    "version": 3
   },
   "file_extension": ".py",
   "mimetype": "text/x-python",
   "name": "python",
   "nbconvert_exporter": "python",
   "pygments_lexer": "ipython3",
   "version": "3.10.12"
  }
 },
 "nbformat": 4,
 "nbformat_minor": 2
}
